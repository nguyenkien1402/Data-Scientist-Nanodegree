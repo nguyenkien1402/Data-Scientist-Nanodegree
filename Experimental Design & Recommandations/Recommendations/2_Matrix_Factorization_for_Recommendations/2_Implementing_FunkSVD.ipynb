{
 "cells": [
  {
   "cell_type": "markdown",
   "metadata": {},
   "source": [
    "### Implementing FunkSVD\n",
    "\n",
    "In this notebook we will take a look at writing our own function that performs FunkSVD, which will follow the steps you saw in the previous video.  If you find that you aren't ready to tackle this task on your own, feel free to skip to the following video where you can watch as I walk through the steps.\n",
    "\n",
    "To test our algorithm, we will run it on the subset of the data you worked with earlier.  Run the cell below to get started."
   ]
  },
  {
   "cell_type": "code",
   "execution_count": 2,
   "metadata": {},
   "outputs": [
    {
     "name": "stdout",
     "output_type": "stream",
     "text": [
      "[[ 10.  10.  10.  10.]\n",
      " [ 10.   4.   9.  10.]\n",
      " [  8.   9.  10.   5.]\n",
      " [  9.   8.  10.  10.]\n",
      " [ 10.   5.   9.   9.]\n",
      " [  6.   4.  10.   6.]\n",
      " [  9.   8.  10.   9.]\n",
      " [ 10.   5.   9.   8.]\n",
      " [  7.   8.  10.   8.]\n",
      " [  9.   5.   9.   7.]\n",
      " [  9.   8.  10.   8.]\n",
      " [  9.  10.  10.   9.]\n",
      " [ 10.   9.  10.   8.]\n",
      " [  5.   8.   5.   8.]\n",
      " [ 10.   8.  10.  10.]\n",
      " [  9.   9.  10.  10.]\n",
      " [  9.   8.   8.   8.]\n",
      " [ 10.   8.   1.  10.]\n",
      " [  5.   6.  10.  10.]\n",
      " [  8.   7.  10.   7.]]\n"
     ]
    }
   ],
   "source": [
    "import numpy as np\n",
    "import pandas as pd\n",
    "import matplotlib.pyplot as plt\n",
    "from scipy import sparse\n",
    "import svd_tests as t\n",
    "%matplotlib inline\n",
    "\n",
    "# Read in the datasetsbb\n",
    "movies = pd.read_csv('data/movies_clean.csv')\n",
    "reviews = pd.read_csv('data/reviews_clean.csv')\n",
    "\n",
    "del movies['Unnamed: 0']\n",
    "del reviews['Unnamed: 0']\n",
    "\n",
    "# Create user-by-item matrix\n",
    "user_items = reviews[['user_id', 'movie_id', 'rating', 'timestamp']]\n",
    "user_by_movie = user_items.groupby(['user_id', 'movie_id'])['rating'].max().unstack()\n",
    "\n",
    "# Create data subset\n",
    "user_movie_subset = user_by_movie[[73486, 75314,  68646, 99685]].dropna(axis=0)\n",
    "ratings_mat = np.matrix(user_movie_subset)\n",
    "print(ratings_mat)"
   ]
  },
  {
   "cell_type": "markdown",
   "metadata": {},
   "source": [
    "`1.` You will use the **user_movie_subset** matrix to show that your FunkSVD algorithm will converge.  In the below cell, use the comments and document string to assist you as you complete writing your own function to complete FunkSVD.  You may also want to try to complete the function on your own without the assistance of comments.  You may feel free to remove and add to the function in any way that gets you a working solution! \n",
    "\n",
    "**Notice:** There isn't a sigma matrix in this version of the matrix factorization."
   ]
  },
  {
   "cell_type": "code",
   "execution_count": 13,
   "metadata": {},
   "outputs": [],
   "source": [
    "def FunkSVD(ratings_mat, latent_features=4, learning_rate=0.0001, iters=100):\n",
    "    '''\n",
    "    This function performs matrix factorization using a basic form of FunkSVD with no regularization\n",
    "    \n",
    "    INPUT:\n",
    "    ratings_mat - (numpy array) a matrix with users as rows, movies as columns, and ratings as values\n",
    "    latent_features - (int) the number of latent features used\n",
    "    learning_rate - (float) the learning rate \n",
    "    iters - (int) the number of iterations\n",
    "    \n",
    "    OUTPUT:\n",
    "    user_mat - (numpy array) a user by latent feature matrix\n",
    "    movie_mat - (numpy array) a latent feature by movie matrix\n",
    "    '''\n",
    "    \n",
    "    # Set up useful values to be used through the rest of the function\n",
    "    n_users = ratings_mat.shape[0] # number of rows in the matrix\n",
    "    n_movies = ratings_mat.shape[1] # number of movies in the matrix\n",
    "    num_ratings = n_users * n_movies # total number of ratings in the matrix\n",
    "    \n",
    "    # initialize the user and movie matrices with random values\n",
    "    # helpful link: https://docs.scipy.org/doc/numpy/reference/generated/numpy.random.rand.html\n",
    "    user_mat = np.random.rand(n_users, latent_features) # user matrix filled with random values of shape user x latent \n",
    "    movie_mat = np.random.rand(latent_features, n_movies) # movie matrix filled with random values of shape latent x movies\n",
    "    \n",
    "    # initialize sse at 0 for first iteration\n",
    "    sse_accum = 0\n",
    "    \n",
    "    # header for running results\n",
    "    print(\"Optimization Statistics\")\n",
    "    print(\"Iterations | Mean Squared Error \")\n",
    "    \n",
    "    # for each iteration\n",
    "    for iteration in range(iters):\n",
    "        # update our sse\n",
    "        old_sse = sse_accum\n",
    "        sse_accum = 0\n",
    "        \n",
    "        # For each user-movie pair\n",
    "        for i in range(n_users):\n",
    "            for j in range(n_movies):\n",
    "                # if the rating exists\n",
    "                if ratings_mat[i, j] > 0:\n",
    "                    # compute the error as the actual minus the dot product of the user and movie latent features\n",
    "                    error = diff = ratings_mat[i, j] - np.dot(user_mat[i, :], movie_mat[:, j])\n",
    "                    # Keep track of the total sum of squared errors for the matrix\n",
    "                    sse_accum += diff**2\n",
    "                    # update the values in each matrix in the direction of the gradient\n",
    "                    for k in range(latent_features):\n",
    "                        user_mat[i, k] += learning_rate * (2*diff*movie_mat[k, j])\n",
    "                        movie_mat[k, j] += learning_rate * (2*diff*user_mat[i, k])\n",
    "\n",
    "        # print results for iteration\n",
    "        print(\"%d \\t\\t %f\" % (iteration+1, sse_accum / num_ratings))\n",
    "    return user_mat, movie_mat "
   ]
  },
  {
   "cell_type": "markdown",
   "metadata": {},
   "source": [
    "`2.` Try out your function on the **user_movie_subset** dataset.  First try 4 latent features, a learning rate of 0.005, and 10 iterations.  When you take the dot product of the resulting U and V matrices, how does the resulting **user_movie** matrix compare to the original subset of the data?"
   ]
  },
  {
   "cell_type": "code",
   "execution_count": 7,
   "metadata": {},
   "outputs": [
    {
     "name": "stdout",
     "output_type": "stream",
     "text": [
      "Optimization Statistics\n",
      "Iterations | Mean Squared Error \n"
     ]
    }
   ],
   "source": [
    "user_mat, movie_mat = FunkSVD(ratings_mat, latent_features=4, learning_rate=0.005, iters=10)\n",
    "# use your function with 4 latent features, lr of 0.005 and 10 iterations"
   ]
  },
  {
   "cell_type": "code",
   "execution_count": 8,
   "metadata": {},
   "outputs": [
    {
     "name": "stdout",
     "output_type": "stream",
     "text": [
      "[[ 10.08153561   8.86691141  10.64724644  10.13103845]\n",
      " [  8.86201983   7.63556806   8.91569462   8.70450934]\n",
      " [  7.78146493   6.84510814   8.24128781   7.83898118]\n",
      " [  9.89441292   8.42307437   9.71280255   9.59537693]\n",
      " [  8.42930538   7.43860805   9.02986979   8.5359284 ]\n",
      " [  6.87095595   6.01916322   7.19125004   6.86824571]\n",
      " [  8.89896192   8.01390654   9.89037892   9.20403649]\n",
      " [  8.38735409   7.21862771   8.43803504   8.2184167 ]\n",
      " [  8.3262374    7.38158363   9.02424595   8.50481787]\n",
      " [  7.85700048   6.73075872   7.90715755   7.69961664]\n",
      " [  8.7789691    7.71642037   9.38629371   8.88451493]\n",
      " [  9.77521578   8.42646137   9.8899518    9.59744557]\n",
      " [  9.49616835   8.1188761    9.5136183    9.29668656]\n",
      " [  6.80325653   5.90252967   6.74068038   6.65320472]\n",
      " [  9.93896928   8.40100782  10.13607041   9.77205217]\n",
      " [  9.52929672   8.55798069  10.35017419   9.73966526]\n",
      " [  8.43606894   7.29706569   8.53904484   8.30594759]\n",
      " [  7.30173625   6.16381822   7.27105493   7.09570162]\n",
      " [  7.91682221   7.36613748   9.14551036   8.38329712]\n",
      " [  7.93980932   7.06929215   8.67429329   8.12920508]]\n",
      "[[ 10.  10.  10.  10.]\n",
      " [ 10.   4.   9.  10.]\n",
      " [  8.   9.  10.   5.]\n",
      " [  9.   8.  10.  10.]\n",
      " [ 10.   5.   9.   9.]\n",
      " [  6.   4.  10.   6.]\n",
      " [  9.   8.  10.   9.]\n",
      " [ 10.   5.   9.   8.]\n",
      " [  7.   8.  10.   8.]\n",
      " [  9.   5.   9.   7.]\n",
      " [  9.   8.  10.   8.]\n",
      " [  9.  10.  10.   9.]\n",
      " [ 10.   9.  10.   8.]\n",
      " [  5.   8.   5.   8.]\n",
      " [ 10.   8.  10.  10.]\n",
      " [  9.   9.  10.  10.]\n",
      " [  9.   8.   8.   8.]\n",
      " [ 10.   8.   1.  10.]\n",
      " [  5.   6.  10.  10.]\n",
      " [  8.   7.  10.   7.]]\n"
     ]
    }
   ],
   "source": [
    "#Compare the predicted and actual results\n",
    "print(np.dot(user_mat, movie_mat))\n",
    "print(ratings_mat)"
   ]
  },
  {
   "cell_type": "markdown",
   "metadata": {},
   "source": [
    "**Write your summary here.**"
   ]
  },
  {
   "cell_type": "markdown",
   "metadata": {},
   "source": [
    "`3.` Let's try out the function again on the **user_movie_subset** dataset.  This time we will again use 4 latent features and a learning rate of 0.005.  However, let's bump up the number of iterations to 250.  When you take the dot product of the resulting U and V matrices, how does the resulting **user_movie** matrix compare to the original subset of the data?  What do you notice about your error at the end of the 250 iterations?"
   ]
  },
  {
   "cell_type": "code",
   "execution_count": 9,
   "metadata": {},
   "outputs": [
    {
     "name": "stdout",
     "output_type": "stream",
     "text": [
      "Optimization Statistics\n",
      "Iterations | Mean Squared Error \n"
     ]
    }
   ],
   "source": [
    "user_mat, movie_mat = FunkSVD(ratings_mat, latent_features=4, learning_rate=0.005, iters=250)\n",
    "#use your function with 4 latent features, lr of 0.005 and 250 iterations"
   ]
  },
  {
   "cell_type": "code",
   "execution_count": 10,
   "metadata": {},
   "outputs": [
    {
     "name": "stdout",
     "output_type": "stream",
     "text": [
      "[[  9.99999678   9.99999857   9.99999939  10.000003  ]\n",
      " [  9.99998799   3.9999948    8.99999782  10.00001114]\n",
      " [  7.99999556   8.99999824   9.99999934   5.00000411]\n",
      " [  8.99999668   7.99999877   9.99999965  10.00000318]\n",
      " [ 10.0000008    5.0000006    9.00000043   8.99999939]\n",
      " [  6.00000025   4.00000027  10.00000024   5.99999987]\n",
      " [  9.00000217   8.00000112  10.00000063   8.99999812]\n",
      " [ 10.0000073    5.00000329   9.0000015    7.99999339]\n",
      " [  7.00000801   8.0000035   10.00000152   7.99999268]\n",
      " [  9.00000525   5.00000217   9.0000009    6.99999524]\n",
      " [  9.00000018   7.99999997   9.99999993   7.99999986]\n",
      " [  8.99999688   9.99999853   9.99999934   9.0000029 ]\n",
      " [  9.99999484   8.99999774   9.99999903   8.00000478]\n",
      " [  5.00000148   8.0000007    5.00000033   7.99999866]\n",
      " [  9.99999661   7.99999857   9.99999941  10.00000317]\n",
      " [  8.99999484   8.99999784   9.99999915  10.00000482]\n",
      " [  9.00000489   8.00000222   8.00000102   7.99999557]\n",
      " [ 10.00000241   8.00000109   1.00000052   9.99999785]\n",
      " [  5.00000143   6.00000063  10.0000003    9.99999875]\n",
      " [  8.00000363   7.00000156  10.00000067   6.99999671]]\n",
      "[[ 10.  10.  10.  10.]\n",
      " [ 10.   4.   9.  10.]\n",
      " [  8.   9.  10.   5.]\n",
      " [  9.   8.  10.  10.]\n",
      " [ 10.   5.   9.   9.]\n",
      " [  6.   4.  10.   6.]\n",
      " [  9.   8.  10.   9.]\n",
      " [ 10.   5.   9.   8.]\n",
      " [  7.   8.  10.   8.]\n",
      " [  9.   5.   9.   7.]\n",
      " [  9.   8.  10.   8.]\n",
      " [  9.  10.  10.   9.]\n",
      " [ 10.   9.  10.   8.]\n",
      " [  5.   8.   5.   8.]\n",
      " [ 10.   8.  10.  10.]\n",
      " [  9.   9.  10.  10.]\n",
      " [  9.   8.   8.   8.]\n",
      " [ 10.   8.   1.  10.]\n",
      " [  5.   6.  10.  10.]\n",
      " [  8.   7.  10.   7.]]\n"
     ]
    }
   ],
   "source": [
    "#Compare the predicted and actual results\n",
    "print(np.dot(user_mat, movie_mat))\n",
    "print(ratings_mat)"
   ]
  },
  {
   "cell_type": "markdown",
   "metadata": {},
   "source": [
    "**Write your summary here.**"
   ]
  },
  {
   "cell_type": "markdown",
   "metadata": {},
   "source": [
    "The last time we placed an **np.nan** value into this matrix the entire svd algorithm in python broke.  Let's see if that is still the case using your FunkSVD function.  In the below cell, I have placed a nan into the first cell of your numpy array.  \n",
    "\n",
    "`4.` Use 4 latent features, a learning rate of 0.005, and 250 iterations.  Are you able to run your SVD without it breaking (something that was not true about the python built in)?  Do you get a prediction for the nan value?  What is your prediction for the missing value? Use the cells below to answer these questions."
   ]
  },
  {
   "cell_type": "code",
   "execution_count": 11,
   "metadata": {},
   "outputs": [
    {
     "data": {
      "text/plain": [
       "matrix([[ nan,  10.,  10.,  10.],\n",
       "        [ 10.,   4.,   9.,  10.],\n",
       "        [  8.,   9.,  10.,   5.],\n",
       "        [  9.,   8.,  10.,  10.],\n",
       "        [ 10.,   5.,   9.,   9.],\n",
       "        [  6.,   4.,  10.,   6.],\n",
       "        [  9.,   8.,  10.,   9.],\n",
       "        [ 10.,   5.,   9.,   8.],\n",
       "        [  7.,   8.,  10.,   8.],\n",
       "        [  9.,   5.,   9.,   7.],\n",
       "        [  9.,   8.,  10.,   8.],\n",
       "        [  9.,  10.,  10.,   9.],\n",
       "        [ 10.,   9.,  10.,   8.],\n",
       "        [  5.,   8.,   5.,   8.],\n",
       "        [ 10.,   8.,  10.,  10.],\n",
       "        [  9.,   9.,  10.,  10.],\n",
       "        [  9.,   8.,   8.,   8.],\n",
       "        [ 10.,   8.,   1.,  10.],\n",
       "        [  5.,   6.,  10.,  10.],\n",
       "        [  8.,   7.,  10.,   7.]])"
      ]
     },
     "execution_count": 11,
     "metadata": {},
     "output_type": "execute_result"
    }
   ],
   "source": [
    "# Here we are placing a nan into our original subset matrix\n",
    "ratings_mat[0, 0] = np.nan\n",
    "ratings_mat"
   ]
  },
  {
   "cell_type": "code",
   "execution_count": 14,
   "metadata": {},
   "outputs": [
    {
     "name": "stdout",
     "output_type": "stream",
     "text": [
      "Optimization Statistics\n",
      "Iterations | Mean Squared Error \n",
      "1 \t\t 43.818216\n",
      "2 \t\t 15.746713\n",
      "3 \t\t 4.332458\n",
      "4 \t\t 2.826670\n",
      "5 \t\t 2.680351\n",
      "6 \t\t 2.633475\n",
      "7 \t\t 2.596485\n",
      "8 \t\t 2.558773\n",
      "9 \t\t 2.517589\n",
      "10 \t\t 2.471679\n",
      "11 \t\t 2.420176\n",
      "12 \t\t 2.362352\n",
      "13 \t\t 2.297597\n",
      "14 \t\t 2.225444\n",
      "15 \t\t 2.145629\n",
      "16 \t\t 2.058153\n",
      "17 \t\t 1.963346\n",
      "18 \t\t 1.861917\n",
      "19 \t\t 1.754978\n",
      "20 \t\t 1.644024\n",
      "21 \t\t 1.530865\n",
      "22 \t\t 1.417506\n",
      "23 \t\t 1.305987\n",
      "24 \t\t 1.198211\n",
      "25 \t\t 1.095781\n",
      "26 \t\t 0.999885\n",
      "27 \t\t 0.911244\n",
      "28 \t\t 0.830119\n",
      "29 \t\t 0.756378\n",
      "30 \t\t 0.689595\n",
      "31 \t\t 0.629152\n",
      "32 \t\t 0.574346\n",
      "33 \t\t 0.524462\n",
      "34 \t\t 0.478834\n",
      "35 \t\t 0.436874\n",
      "36 \t\t 0.398094\n",
      "37 \t\t 0.362104\n",
      "38 \t\t 0.328605\n",
      "39 \t\t 0.297379\n",
      "40 \t\t 0.268272\n",
      "41 \t\t 0.241179\n",
      "42 \t\t 0.216031\n",
      "43 \t\t 0.192774\n",
      "44 \t\t 0.171368\n",
      "45 \t\t 0.151767\n",
      "46 \t\t 0.133922\n",
      "47 \t\t 0.117771\n",
      "48 \t\t 0.103241\n",
      "49 \t\t 0.090245\n",
      "50 \t\t 0.078686\n",
      "51 \t\t 0.068461\n",
      "52 \t\t 0.059459\n",
      "53 \t\t 0.051569\n",
      "54 \t\t 0.044682\n",
      "55 \t\t 0.038689\n",
      "56 \t\t 0.033490\n",
      "57 \t\t 0.028989\n",
      "58 \t\t 0.025101\n",
      "59 \t\t 0.021745\n",
      "60 \t\t 0.018852\n",
      "61 \t\t 0.016359\n",
      "62 \t\t 0.014210\n",
      "63 \t\t 0.012357\n",
      "64 \t\t 0.010759\n",
      "65 \t\t 0.009379\n",
      "66 \t\t 0.008187\n",
      "67 \t\t 0.007155\n",
      "68 \t\t 0.006261\n",
      "69 \t\t 0.005486\n",
      "70 \t\t 0.004812\n",
      "71 \t\t 0.004226\n",
      "72 \t\t 0.003715\n",
      "73 \t\t 0.003269\n",
      "74 \t\t 0.002879\n",
      "75 \t\t 0.002539\n",
      "76 \t\t 0.002240\n",
      "77 \t\t 0.001978\n",
      "78 \t\t 0.001748\n",
      "79 \t\t 0.001545\n",
      "80 \t\t 0.001367\n",
      "81 \t\t 0.001210\n",
      "82 \t\t 0.001072\n",
      "83 \t\t 0.000950\n",
      "84 \t\t 0.000842\n",
      "85 \t\t 0.000747\n",
      "86 \t\t 0.000663\n",
      "87 \t\t 0.000588\n",
      "88 \t\t 0.000522\n",
      "89 \t\t 0.000463\n",
      "90 \t\t 0.000412\n",
      "91 \t\t 0.000366\n",
      "92 \t\t 0.000325\n",
      "93 \t\t 0.000289\n",
      "94 \t\t 0.000257\n",
      "95 \t\t 0.000228\n",
      "96 \t\t 0.000203\n",
      "97 \t\t 0.000180\n",
      "98 \t\t 0.000160\n",
      "99 \t\t 0.000143\n",
      "100 \t\t 0.000127\n",
      "101 \t\t 0.000113\n",
      "102 \t\t 0.000100\n",
      "103 \t\t 0.000089\n",
      "104 \t\t 0.000079\n",
      "105 \t\t 0.000071\n",
      "106 \t\t 0.000063\n",
      "107 \t\t 0.000056\n",
      "108 \t\t 0.000050\n",
      "109 \t\t 0.000044\n",
      "110 \t\t 0.000039\n",
      "111 \t\t 0.000035\n",
      "112 \t\t 0.000031\n",
      "113 \t\t 0.000028\n",
      "114 \t\t 0.000025\n",
      "115 \t\t 0.000022\n",
      "116 \t\t 0.000020\n",
      "117 \t\t 0.000017\n",
      "118 \t\t 0.000016\n",
      "119 \t\t 0.000014\n",
      "120 \t\t 0.000012\n",
      "121 \t\t 0.000011\n",
      "122 \t\t 0.000010\n",
      "123 \t\t 0.000009\n",
      "124 \t\t 0.000008\n",
      "125 \t\t 0.000007\n",
      "126 \t\t 0.000006\n",
      "127 \t\t 0.000005\n",
      "128 \t\t 0.000005\n",
      "129 \t\t 0.000004\n",
      "130 \t\t 0.000004\n",
      "131 \t\t 0.000003\n",
      "132 \t\t 0.000003\n",
      "133 \t\t 0.000003\n",
      "134 \t\t 0.000002\n",
      "135 \t\t 0.000002\n",
      "136 \t\t 0.000002\n",
      "137 \t\t 0.000002\n",
      "138 \t\t 0.000002\n",
      "139 \t\t 0.000001\n",
      "140 \t\t 0.000001\n",
      "141 \t\t 0.000001\n",
      "142 \t\t 0.000001\n",
      "143 \t\t 0.000001\n",
      "144 \t\t 0.000001\n",
      "145 \t\t 0.000001\n",
      "146 \t\t 0.000001\n",
      "147 \t\t 0.000001\n",
      "148 \t\t 0.000000\n",
      "149 \t\t 0.000000\n",
      "150 \t\t 0.000000\n",
      "151 \t\t 0.000000\n",
      "152 \t\t 0.000000\n",
      "153 \t\t 0.000000\n",
      "154 \t\t 0.000000\n",
      "155 \t\t 0.000000\n",
      "156 \t\t 0.000000\n",
      "157 \t\t 0.000000\n",
      "158 \t\t 0.000000\n",
      "159 \t\t 0.000000\n",
      "160 \t\t 0.000000\n",
      "161 \t\t 0.000000\n",
      "162 \t\t 0.000000\n",
      "163 \t\t 0.000000\n",
      "164 \t\t 0.000000\n",
      "165 \t\t 0.000000\n",
      "166 \t\t 0.000000\n",
      "167 \t\t 0.000000\n",
      "168 \t\t 0.000000\n",
      "169 \t\t 0.000000\n",
      "170 \t\t 0.000000\n",
      "171 \t\t 0.000000\n",
      "172 \t\t 0.000000\n",
      "173 \t\t 0.000000\n",
      "174 \t\t 0.000000\n",
      "175 \t\t 0.000000\n",
      "176 \t\t 0.000000\n",
      "177 \t\t 0.000000\n",
      "178 \t\t 0.000000\n",
      "179 \t\t 0.000000\n",
      "180 \t\t 0.000000\n",
      "181 \t\t 0.000000\n",
      "182 \t\t 0.000000\n",
      "183 \t\t 0.000000\n",
      "184 \t\t 0.000000\n",
      "185 \t\t 0.000000\n",
      "186 \t\t 0.000000\n",
      "187 \t\t 0.000000\n",
      "188 \t\t 0.000000\n",
      "189 \t\t 0.000000\n",
      "190 \t\t 0.000000\n",
      "191 \t\t 0.000000\n",
      "192 \t\t 0.000000\n",
      "193 \t\t 0.000000\n",
      "194 \t\t 0.000000\n",
      "195 \t\t 0.000000\n",
      "196 \t\t 0.000000\n",
      "197 \t\t 0.000000\n",
      "198 \t\t 0.000000\n",
      "199 \t\t 0.000000\n",
      "200 \t\t 0.000000\n",
      "201 \t\t 0.000000\n",
      "202 \t\t 0.000000\n",
      "203 \t\t 0.000000\n",
      "204 \t\t 0.000000\n",
      "205 \t\t 0.000000\n",
      "206 \t\t 0.000000\n",
      "207 \t\t 0.000000\n",
      "208 \t\t 0.000000\n",
      "209 \t\t 0.000000\n",
      "210 \t\t 0.000000\n",
      "211 \t\t 0.000000\n",
      "212 \t\t 0.000000\n",
      "213 \t\t 0.000000\n",
      "214 \t\t 0.000000\n",
      "215 \t\t 0.000000\n",
      "216 \t\t 0.000000\n",
      "217 \t\t 0.000000\n",
      "218 \t\t 0.000000\n",
      "219 \t\t 0.000000\n",
      "220 \t\t 0.000000\n",
      "221 \t\t 0.000000\n",
      "222 \t\t 0.000000\n",
      "223 \t\t 0.000000\n",
      "224 \t\t 0.000000\n",
      "225 \t\t 0.000000\n",
      "226 \t\t 0.000000\n",
      "227 \t\t 0.000000\n",
      "228 \t\t 0.000000\n",
      "229 \t\t 0.000000\n",
      "230 \t\t 0.000000\n",
      "231 \t\t 0.000000\n",
      "232 \t\t 0.000000\n",
      "233 \t\t 0.000000\n",
      "234 \t\t 0.000000\n",
      "235 \t\t 0.000000\n",
      "236 \t\t 0.000000\n",
      "237 \t\t 0.000000\n",
      "238 \t\t 0.000000\n",
      "239 \t\t 0.000000\n",
      "240 \t\t 0.000000\n",
      "241 \t\t 0.000000\n",
      "242 \t\t 0.000000\n",
      "243 \t\t 0.000000\n",
      "244 \t\t 0.000000\n",
      "245 \t\t 0.000000\n",
      "246 \t\t 0.000000\n",
      "247 \t\t 0.000000\n",
      "248 \t\t 0.000000\n",
      "249 \t\t 0.000000\n",
      "250 \t\t 0.000000\n"
     ]
    }
   ],
   "source": [
    "# run SVD on the matrix with the missing value\n",
    "user_mat, movie_mat = FunkSVD(ratings_mat, latent_features=4, learning_rate=0.005, iters=250)"
   ]
  },
  {
   "cell_type": "code",
   "execution_count": 15,
   "metadata": {},
   "outputs": [
    {
     "name": "stdout",
     "output_type": "stream",
     "text": [
      "The predicted value for the missing rating is 9.43552131214534:\n",
      "\n",
      "The actual value for the missing rating is nan:\n",
      "\n",
      "That's right! You just predicted a rating for a user-movie pair that was never rated!\n",
      "But if you look in the original matrix, this was actually a value of 10. Not bad!\n"
     ]
    }
   ],
   "source": [
    "# Run this cell to see if you were able to predict for the missing value\n",
    "preds = np.dot(user_mat, movie_mat)\n",
    "print(\"The predicted value for the missing rating is {}:\".format(preds[0,0]))\n",
    "print()\n",
    "print(\"The actual value for the missing rating is {}:\".format(ratings_mat[0,0]))\n",
    "print()\n",
    "assert np.isnan(preds[0,0]) == False\n",
    "print(\"That's right! You just predicted a rating for a user-movie pair that was never rated!\")\n",
    "print(\"But if you look in the original matrix, this was actually a value of 10. Not bad!\")"
   ]
  },
  {
   "cell_type": "markdown",
   "metadata": {},
   "source": [
    "Now let's extend this to a more realistic example. Unfortunately, running this function on your entire user-movie matrix is still not something you likely want to do on your local machine.  However, we can see how well this example extends to 1000 users.  In the above portion, you were using a very small subset of data with no missing values.\n",
    "\n",
    "`5.` Given the size of this matrix, this will take quite a bit of time.  Consider the following hyperparameters: 4 latent features, 0.005 learning rate, and 20 iterations.  Grab a snack, take a walk, and this should be done running in a bit."
   ]
  },
  {
   "cell_type": "code",
   "execution_count": 16,
   "metadata": {},
   "outputs": [
    {
     "name": "stdout",
     "output_type": "stream",
     "text": [
      "Optimization Statistics\n",
      "Iterations | Mean Squared Error \n",
      "1 \t\t 37.332000\n",
      "2 \t\t 11.712541\n",
      "3 \t\t 3.757998\n",
      "4 \t\t 2.806035\n",
      "5 \t\t 2.673261\n",
      "6 \t\t 2.624015\n",
      "7 \t\t 2.588481\n",
      "8 \t\t 2.553944\n",
      "9 \t\t 2.516863\n",
      "10 \t\t 2.475786\n",
      "11 \t\t 2.429796\n",
      "12 \t\t 2.378141\n",
      "13 \t\t 2.320165\n",
      "14 \t\t 2.255321\n",
      "15 \t\t 2.183220\n",
      "16 \t\t 2.103700\n",
      "17 \t\t 2.016899\n",
      "18 \t\t 1.923335\n",
      "19 \t\t 1.823963\n",
      "20 \t\t 1.720190\n"
     ]
    }
   ],
   "source": [
    "# Setting up a matrix of the first 1000 users with movie ratings\n",
    "first_1000_users = np.matrix(user_by_movie.head(1000))\n",
    "\n",
    "# perform funkSVD on the matrix of the top 1000 users\n",
    "\n",
    "user_mat, movie_mat = FunkSVD(ratings_mat, latent_features=4, learning_rate=0.005, iters=20)\n",
    "#fit to 1000 users with 4 latent features, lr of 0.005, and 20 iterations"
   ]
  },
  {
   "cell_type": "markdown",
   "metadata": {},
   "source": [
    "`6.` Now that you have a set of predictions for each user-movie pair,  let's answer a few questions about your results. Provide the correct values for each of the variables below, and check your solutions using the tests below."
   ]
  },
  {
   "cell_type": "code",
   "execution_count": 20,
   "metadata": {},
   "outputs": [
    {
     "name": "stdout",
     "output_type": "stream",
     "text": [
      "The number of actual ratings in the first_1000_users is 10852.\n",
      "\n",
      "The number of ratings made for user-movie pairs that didn't have ratings is 31234148\n"
     ]
    }
   ],
   "source": [
    "# Replace each of the comments below with the correct values\n",
    "num_ratings = np.count_nonzero(~np.isnan(first_1000_users))\n",
    "# How many actual ratings exist in first_1000_users\n",
    "print(\"The number of actual ratings in the first_1000_users is {}.\".format(num_ratings))\n",
    "print()\n",
    "\n",
    "\n",
    "ratings_for_missing = first_1000_users.shape[0]*first_1000_users.shape[1] - num_ratings\n",
    "# How many ratings did we make for user-movie pairs that didn't actually have ratings\n",
    "print(\"The number of ratings made for user-movie pairs that didn't have ratings is {}\".format(ratings_for_missing))"
   ]
  },
  {
   "cell_type": "code",
   "execution_count": 28,
   "metadata": {},
   "outputs": [
    {
     "name": "stdout",
     "output_type": "stream",
     "text": [
      "Nice job!  Looks like you have predictions made for all the missing user-movie pairs! But I still have one question... How good are they?\n"
     ]
    }
   ],
   "source": [
    "# Test your results against the solution\n",
    "assert num_ratings == 10852, \"Oops!  The number of actual ratings doesn't quite look right.\"\n",
    "assert ratings_for_missing == 31234148, \"Oops!  The number of movie-user pairs that you made ratings for that didn't actually have ratings doesn't look right.\"\n",
    "\n",
    "# Make sure you made predictions on all the missing user-movie pairs\n",
    "preds = np.dot(user_mat, movie_mat)\n",
    "assert np.isnan(preds).sum() == 0\n",
    "print(\"Nice job!  Looks like you have predictions made for all the missing user-movie pairs! But I still have one question... How good are they?\")"
   ]
  },
  {
   "cell_type": "code",
   "execution_count": null,
   "metadata": {
    "collapsed": true
   },
   "outputs": [],
   "source": []
  }
 ],
 "metadata": {
  "kernelspec": {
   "display_name": "Python 3",
   "language": "python",
   "name": "python3"
  },
  "language_info": {
   "codemirror_mode": {
    "name": "ipython",
    "version": 3
   },
   "file_extension": ".py",
   "mimetype": "text/x-python",
   "name": "python",
   "nbconvert_exporter": "python",
   "pygments_lexer": "ipython3",
   "version": "3.7.3"
  }
 },
 "nbformat": 4,
 "nbformat_minor": 2
}
