{
 "cells": [
  {
   "cell_type": "markdown",
   "metadata": {},
   "source": [
    "# APIs\n",
    "\n",
    "Instead of downloading World Bank data via a csv file, you're going to download the data using the World Bank APIs. The purpose of this exercise is to gain experience with another way of extracting data.\n",
    "\n",
    "API is an acronym that stands for application programming interface. API’s provide a standardized way for two applications to talk to each other. For this project, the applications communicating with each other are the server application where World Bank stores data and your Jupyter notebook.\n",
    "\n",
    "If you wanted to pull data directly from the World Bank’s server, you’d have to know what database system the World Bank was using. You’d also need permission to log in directly to the server, which would be a security risk for the World Bank. And if the World Bank ever migrated its data to a new system, you would have to rewrite all of your code again. The API allows you to execute code on the World Bank server without getting direct access.\n",
    "\n",
    "# Before there were APIs\n",
    "\n",
    "Before there were APIs, there was web scraping. People would download html directly from a website and then parse the results programatically. This practice is in a legal grey area. One reason that APIs became popular was so that companies could provide data to users and discourage web scraping.\n",
    "\n",
    "Here are a few articles about the legality of web scraping.\n",
    "\n",
    "* [QVC Can't Stop Web Scraping](https://www.forbes.com/sites/ericgoldman/2015/03/24/qvc-cant-stop-web-scraping/#120db59b3ca3)\n",
    "* [Quora - Legality of Web Scraping](https://www.quora.com/What-is-the-legality-of-web-scraping)\n",
    "\n",
    "All sorts of companies have public facing APIs including Facebook, Twitter, Google and Pinterest. You can pull data from these companies to create your own applications.\n",
    "\n",
    "In this notebook, you’ll get practice using Python to pull data from the World Bank indicators API.\n",
    "\n",
    "Here are links to information about the World Bank indicators and projects APIs if you want to learn more:\n",
    "* [World Bank Indicators API](world bank projects api)\n",
    "* [World Bank Projects API](http://search.worldbank.org/api/v2/projects)"
   ]
  },
  {
   "cell_type": "markdown",
   "metadata": {},
   "source": [
    "# Using APIs\n",
    "\n",
    "In general, you access APIs via the web using a web address. Within the web address, you specify the data that you want. To know how to format the web address, you need to read the documentation. Some APIs also require that you send login credentials as part of your request. The World Bank APIs are public and do not require login credentials.\n",
    "\n",
    "The Python requests library makes working with APIs relatively simple."
   ]
  },
  {
   "cell_type": "markdown",
   "metadata": {},
   "source": [
    "# Example Indicators API\n",
    "\n",
    "Run the code example below to request data from the World Bank Indicators API. According to the documntation, you format your request url like so:\n",
    "\n",
    "`http://api.worldbank.org/v2/countries/` + list of country abbreviations separated by ; + `/indicators/` + indicator name + `?` + options\n",
    "\n",
    "where options can include\n",
    "* per_page - number of records to return per page\n",
    "* page - which page to return - eg if there are 5000 records and 100 records per page\n",
    "* date - filter by dates\n",
    "* format - json or xml\n",
    " \n",
    " and a few other options that you can read about [here](https://datahelpdesk.worldbank.org/knowledgebase/articles/898581-api-basic-call-structure)."
   ]
  },
  {
   "cell_type": "code",
   "execution_count": 2,
   "metadata": {},
   "outputs": [
    {
     "data": {
      "text/plain": [
       "[{'page': 1,\n",
       "  'pages': 116,\n",
       "  'per_page': 2,\n",
       "  'lastupdated': '2018-09-21',\n",
       "  'total': 232},\n",
       " [{'indicator': {'id': 'SP.POP.TOTL', 'value': 'Population, total'},\n",
       "   'country': {'id': 'BR', 'value': 'Brazil'},\n",
       "   'countryiso3code': 'BRA',\n",
       "   'date': '2017',\n",
       "   'value': 209288278,\n",
       "   'unit': '',\n",
       "   'obs_status': '',\n",
       "   'decimal': 0},\n",
       "  {'indicator': {'id': 'SP.POP.TOTL', 'value': 'Population, total'},\n",
       "   'country': {'id': 'BR', 'value': 'Brazil'},\n",
       "   'countryiso3code': 'BRA',\n",
       "   'date': '2016',\n",
       "   'value': 207652865,\n",
       "   'unit': '',\n",
       "   'obs_status': '',\n",
       "   'decimal': 0}]]"
      ]
     },
     "execution_count": 2,
     "metadata": {},
     "output_type": "execute_result"
    }
   ],
   "source": [
    "import requests\n",
    "import pandas as pd\n",
    "\n",
    "url = 'http://api.worldbank.org/v2/countries/br;cn;us;de/indicators/SP.POP.TOTL/?format=json&per_page=2'\n",
    "r = requests.get(url)\n",
    "r.json()"
   ]
  },
  {
   "cell_type": "markdown",
   "metadata": {},
   "source": [
    "This json data isn't quite ready for a pandas data frame. Notice that the json response is a list with two entries. The first entry is \n",
    "```\n",
    "{'lastupdated': '2018-06-28',\n",
    "  'page': 1,\n",
    "  'pages': 1,\n",
    "  'per_page': 1000,\n",
    "  'total': 232}\n",
    "```\n",
    "\n",
    "That first entry is meta data about the results. For example, it says that there is one page returned with 232 results. \n",
    "\n",
    "The second entry is another list containing the data. This data would need some cleaning to be used in a pandas data frame. That would happen later in the transformation step of an ETL pipeline. Run the cell below to read the results into a dataframe and see what happens."
   ]
  },
  {
   "cell_type": "code",
   "execution_count": 3,
   "metadata": {},
   "outputs": [
    {
     "data": {
      "text/html": [
       "<div>\n",
       "<style scoped>\n",
       "    .dataframe tbody tr th:only-of-type {\n",
       "        vertical-align: middle;\n",
       "    }\n",
       "\n",
       "    .dataframe tbody tr th {\n",
       "        vertical-align: top;\n",
       "    }\n",
       "\n",
       "    .dataframe thead th {\n",
       "        text-align: right;\n",
       "    }\n",
       "</style>\n",
       "<table border=\"1\" class=\"dataframe\">\n",
       "  <thead>\n",
       "    <tr style=\"text-align: right;\">\n",
       "      <th></th>\n",
       "      <th>country</th>\n",
       "      <th>countryiso3code</th>\n",
       "      <th>date</th>\n",
       "      <th>decimal</th>\n",
       "      <th>indicator</th>\n",
       "      <th>obs_status</th>\n",
       "      <th>unit</th>\n",
       "      <th>value</th>\n",
       "    </tr>\n",
       "  </thead>\n",
       "  <tbody>\n",
       "    <tr>\n",
       "      <th>0</th>\n",
       "      <td>{'id': 'BR', 'value': 'Brazil'}</td>\n",
       "      <td>BRA</td>\n",
       "      <td>2017</td>\n",
       "      <td>0</td>\n",
       "      <td>{'id': 'SP.POP.TOTL', 'value': 'Population, to...</td>\n",
       "      <td></td>\n",
       "      <td></td>\n",
       "      <td>209288278</td>\n",
       "    </tr>\n",
       "    <tr>\n",
       "      <th>1</th>\n",
       "      <td>{'id': 'BR', 'value': 'Brazil'}</td>\n",
       "      <td>BRA</td>\n",
       "      <td>2016</td>\n",
       "      <td>0</td>\n",
       "      <td>{'id': 'SP.POP.TOTL', 'value': 'Population, to...</td>\n",
       "      <td></td>\n",
       "      <td></td>\n",
       "      <td>207652865</td>\n",
       "    </tr>\n",
       "  </tbody>\n",
       "</table>\n",
       "</div>"
      ],
      "text/plain": [
       "                           country countryiso3code  date  decimal  \\\n",
       "0  {'id': 'BR', 'value': 'Brazil'}             BRA  2017        0   \n",
       "1  {'id': 'BR', 'value': 'Brazil'}             BRA  2016        0   \n",
       "\n",
       "                                           indicator obs_status unit  \\\n",
       "0  {'id': 'SP.POP.TOTL', 'value': 'Population, to...                   \n",
       "1  {'id': 'SP.POP.TOTL', 'value': 'Population, to...                   \n",
       "\n",
       "       value  \n",
       "0  209288278  \n",
       "1  207652865  "
      ]
     },
     "execution_count": 3,
     "metadata": {},
     "output_type": "execute_result"
    }
   ],
   "source": [
    "###\n",
    "# Run this cell that converts the json into a dataframe\n",
    "# Note that you do not need the pd.read_json() method because this is not a file or a string containing json \n",
    "##\n",
    "\n",
    "pd.DataFrame(r.json()[1])"
   ]
  },
  {
   "cell_type": "markdown",
   "metadata": {},
   "source": [
    "There are some issues with this dataframe. The country and indicator variables don't look particularly useful in their current form. Again, dealing with those issues would come in the transformation phase of a pipeline, which comes later in the lesson."
   ]
  },
  {
   "cell_type": "markdown",
   "metadata": {},
   "source": [
    "# Exercise Indicators API\n",
    "\n",
    "Use the Indicators API to request rural population data for Switzerland in the years 1995 through 2001. Here are a few helpful resources:\n",
    "* [documentation included how to filter by year](https://datahelpdesk.worldbank.org/knowledgebase/articles/898581-api-basic-call-structure)\n",
    "* [2-character iso country codes](https://www.nationsonline.org/oneworld/country_code_list.htm)\n",
    "* [search box for World Bank indicators](https://data.worldbank.org)\n",
    "\n",
    "To find the indicator code, first search for the indicator here: https://data.worldbank.org\n",
    "Click on the indicator name. The indicator code is in the url. For example, the indicator code for total population is SP.POP.TOTL, which you can see in the link [https://data.worldbank.org/indicator/SP.RUR.TOTL](https://data.worldbank.org/indicator/SP.RUR.TOTL)."
   ]
  },
  {
   "cell_type": "code",
   "execution_count": 4,
   "metadata": {},
   "outputs": [
    {
     "data": {
      "text/plain": [
       "[{'page': 1,\n",
       "  'pages': 1,\n",
       "  'per_page': 50,\n",
       "  'lastupdated': '2018-09-21',\n",
       "  'total': 7},\n",
       " [{'indicator': {'id': 'SP.RUR.TOTL', 'value': 'Rural population'},\n",
       "   'country': {'id': 'CH', 'value': 'Switzerland'},\n",
       "   'countryiso3code': 'CHE',\n",
       "   'date': '2001',\n",
       "   'value': 1924949,\n",
       "   'unit': '',\n",
       "   'obs_status': '',\n",
       "   'decimal': 0},\n",
       "  {'indicator': {'id': 'SP.RUR.TOTL', 'value': 'Rural population'},\n",
       "   'country': {'id': 'CH', 'value': 'Switzerland'},\n",
       "   'countryiso3code': 'CHE',\n",
       "   'date': '2000',\n",
       "   'value': 1912232,\n",
       "   'unit': '',\n",
       "   'obs_status': '',\n",
       "   'decimal': 0},\n",
       "  {'indicator': {'id': 'SP.RUR.TOTL', 'value': 'Rural population'},\n",
       "   'country': {'id': 'CH', 'value': 'Switzerland'},\n",
       "   'countryiso3code': 'CHE',\n",
       "   'date': '1999',\n",
       "   'value': 1897587,\n",
       "   'unit': '',\n",
       "   'obs_status': '',\n",
       "   'decimal': 0},\n",
       "  {'indicator': {'id': 'SP.RUR.TOTL', 'value': 'Rural population'},\n",
       "   'country': {'id': 'CH', 'value': 'Switzerland'},\n",
       "   'countryiso3code': 'CHE',\n",
       "   'date': '1998',\n",
       "   'value': 1884719,\n",
       "   'unit': '',\n",
       "   'obs_status': '',\n",
       "   'decimal': 0},\n",
       "  {'indicator': {'id': 'SP.RUR.TOTL', 'value': 'Rural population'},\n",
       "   'country': {'id': 'CH', 'value': 'Switzerland'},\n",
       "   'countryiso3code': 'CHE',\n",
       "   'date': '1997',\n",
       "   'value': 1875299,\n",
       "   'unit': '',\n",
       "   'obs_status': '',\n",
       "   'decimal': 0},\n",
       "  {'indicator': {'id': 'SP.RUR.TOTL', 'value': 'Rural population'},\n",
       "   'country': {'id': 'CH', 'value': 'Switzerland'},\n",
       "   'countryiso3code': 'CHE',\n",
       "   'date': '1996',\n",
       "   'value': 1866968,\n",
       "   'unit': '',\n",
       "   'obs_status': '',\n",
       "   'decimal': 0},\n",
       "  {'indicator': {'id': 'SP.RUR.TOTL', 'value': 'Rural population'},\n",
       "   'country': {'id': 'CH', 'value': 'Switzerland'},\n",
       "   'countryiso3code': 'CHE',\n",
       "   'date': '1995',\n",
       "   'value': 1854939,\n",
       "   'unit': '',\n",
       "   'obs_status': '',\n",
       "   'decimal': 0}]]"
      ]
     },
     "execution_count": 4,
     "metadata": {},
     "output_type": "execute_result"
    }
   ],
   "source": [
    "# TODO: get the url ready\n",
    "url = 'http://api.worldbank.org/v2/countries/ch/indicators/SP.RUR.TOTL/?format=json&date=1995:2001'\n",
    "\n",
    "# TODO: send the request\n",
    "r = requests.get(url)\n",
    "\n",
    "# TODO: output the json using the json method like in the previous example\n",
    "r.json()"
   ]
  },
  {
   "cell_type": "code",
   "execution_count": null,
   "metadata": {},
   "outputs": [],
   "source": []
  }
 ],
 "metadata": {
  "kernelspec": {
   "display_name": "Python 3",
   "language": "python",
   "name": "python3"
  },
  "language_info": {
   "codemirror_mode": {
    "name": "ipython",
    "version": 3
   },
   "file_extension": ".py",
   "mimetype": "text/x-python",
   "name": "python",
   "nbconvert_exporter": "python",
   "pygments_lexer": "ipython3",
   "version": "3.6.5"
  }
 },
 "nbformat": 4,
 "nbformat_minor": 2
}
