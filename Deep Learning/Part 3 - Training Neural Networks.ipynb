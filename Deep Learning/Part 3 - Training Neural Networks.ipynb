{
 "cells": [
  {
   "cell_type": "markdown",
   "metadata": {},
   "source": [
    "# Training Neural Networks\n",
    "\n",
    "The network we built in the previous part isn't so smart, it doesn't know anything about our handwritten digits. Neural networks with non-linear activations work like universal function approximators. There is some function that maps your input to the output. For example, images of handwritten digits to class probabilities. The power of neural networks is that we can train them to approximate this function, and basically any function given enough data and compute time.\n",
    "\n",
    "<img src=\"assets/function_approx.png\" width=500px>\n",
    "\n",
    "At first the network is naive, it doesn't know the function mapping the inputs to the outputs. We train the network by showing it examples of real data, then adjusting the network parameters such that it approximates this function.\n",
    "\n",
    "To find these parameters, we need to know how poorly the network is predicting the real outputs. For this we calculate a **loss function** (also called the cost), a measure of our prediction error. For example, the mean squared loss is often used in regression and binary classification problems\n",
    "\n",
    "$$\n",
    "\\ell = \\frac{1}{2n}\\sum_i^n{\\left(y_i - \\hat{y}_i\\right)^2}\n",
    "$$\n",
    "\n",
    "where $n$ is the number of training examples, $y_i$ are the true labels, and $\\hat{y}_i$ are the predicted labels.\n",
    "\n",
    "By minimizing this loss with respect to the network parameters, we can find configurations where the loss is at a minimum and the network is able to predict the correct labels with high accuracy. We find this minimum using a process called **gradient descent**. The gradient is the slope of the loss function and points in the direction of fastest change. To get to the minimum in the least amount of time, we then want to follow the gradient (downwards). You can think of this like descending a mountain by following the steepest slope to the base.\n",
    "\n",
    "<img src='assets/gradient_descent.png' width=350px>"
   ]
  },
  {
   "cell_type": "markdown",
   "metadata": {},
   "source": [
    "## Backpropagation\n",
    "\n",
    "For single layer networks, gradient descent is simple to implement. However, it's more complicated for deeper, multilayer neural networks like the one we've built. Complicated enough that it took about 30 years before researchers figured out how to train multilayer networks, although it's straightforward once you learn about it. \n",
    "\n",
    "This is done through **backpropagation** which is really just an application of the chain rule from calculus. It's easiest to understand if we convert a two layer network into a graph representation.\n",
    "\n",
    "<img src='assets/w1_backprop_graph.png' width=400px>\n",
    "\n",
    "In the forward pass through the network, our data and operations go from right to left here. To train the weights with gradient descent, we propagate the gradient of the cost backwards through the network. Mathematically, this is really just calculating the gradient of the loss with respect to the weights using the chain rule.\n",
    "\n",
    "$$\n",
    "\\frac{\\partial \\ell}{\\partial w_1} = \\frac{\\partial l_1}{\\partial w_1} \\frac{\\partial s}{\\partial l_1} \\frac{\\partial l_2}{\\partial s} \\frac{\\partial \\ell}{\\partial l_2}\n",
    "$$\n",
    "\n",
    "We update our weights using this gradient with some learning rate $\\alpha$. \n",
    "\n",
    "$$\n",
    "w^\\prime = w - \\alpha \\frac{\\partial \\ell}{\\partial w}\n",
    "$$\n",
    "\n",
    "The learning rate is set such that the weight update steps are small enough that the iterative method settles in a minimum.\n",
    "\n",
    "The first thing we need to do for training is define our loss function. In PyTorch, you'll usually see this as `criterion`. Here we're using softmax output, so we want to use `criterion = nn.CrossEntropyLoss()` as our loss. Later when training, you use `loss = criterion(output, targets)` to calculate the actual loss.\n",
    "\n",
    "We also need to define the optimizer we're using, SGD or Adam, or something along those lines. Here I'll just use SGD with `torch.optim.SGD`, passing in the network parameters and the learning rate."
   ]
  },
  {
   "cell_type": "markdown",
   "metadata": {},
   "source": [
    "## Autograd\n",
    "\n",
    "Torch provides a module, `autograd`, for automatically calculating the gradient of tensors. It does this by keeping track of operations performed on tensors. To make sure PyTorch keeps track of operations on a tensor and calculates the gradients, you need to set `requires_grad` on a tensor. You can do this at creation with the `requires_grad` keyword, or at any time with `x.requires_grad_(True)`.\n",
    "\n",
    "You can turn off gradients for a block of code with the `torch.no_grad()` content:\n",
    "```python\n",
    "x = torch.zeros(1, requires_grad=True)\n",
    ">>> with torch.no_grad():\n",
    "...     y = x * 2\n",
    ">>> y.requires_grad\n",
    "False\n",
    "```\n",
    "\n",
    "Also, you can turn on or off gradients altogether with `torch.set_grad_enabled(True|False)`.\n",
    "\n",
    "The gradients are computed with respect to some variable `z` with `z.backward()`. This does a backward pass through the operations that created `z`."
   ]
  },
  {
   "cell_type": "code",
   "execution_count": 1,
   "metadata": {},
   "outputs": [],
   "source": [
    "%matplotlib inline\n",
    "%config InlineBackend.figure_format = 'retina'\n",
    "\n",
    "from collections import OrderedDict\n",
    "\n",
    "import numpy as np\n",
    "import time\n",
    "\n",
    "import torch\n",
    "from torch import nn\n",
    "from torch import optim\n",
    "import torch.nn.functional as F\n",
    "\n",
    "import helper"
   ]
  },
  {
   "cell_type": "code",
   "execution_count": 10,
   "metadata": {},
   "outputs": [
    {
     "name": "stdout",
     "output_type": "stream",
     "text": [
      "tensor([[-0.8706,  1.8960],\n",
      "        [ 0.0805, -1.5048]])\n"
     ]
    }
   ],
   "source": [
    "x = torch.randn(2,2, requires_grad=True)\n",
    "print(x)"
   ]
  },
  {
   "cell_type": "code",
   "execution_count": 11,
   "metadata": {},
   "outputs": [
    {
     "name": "stdout",
     "output_type": "stream",
     "text": [
      "tensor([[ 0.7579,  3.5950],\n",
      "        [ 0.0065,  2.2646]])\n"
     ]
    }
   ],
   "source": [
    "y = x**2\n",
    "print(y)"
   ]
  },
  {
   "cell_type": "markdown",
   "metadata": {},
   "source": [
    "Below we can see the operation that created `y`, a power operation `PowBackward0`."
   ]
  },
  {
   "cell_type": "code",
   "execution_count": 12,
   "metadata": {},
   "outputs": [
    {
     "name": "stdout",
     "output_type": "stream",
     "text": [
      "<PowBackward0 object at 0x7ff5d76b3710>\n"
     ]
    }
   ],
   "source": [
    "## grad_fn shows the function that generated this variable\n",
    "print(y.grad_fn)"
   ]
  },
  {
   "cell_type": "markdown",
   "metadata": {},
   "source": [
    "The autgrad module keeps track of these operations and knows how to calculate the gradient for each one. In this way, it's able to calculate the gradients for a chain of operations, with respect to any one tensor. Let's reduce the tensor `y` to a scalar value, the mean."
   ]
  },
  {
   "cell_type": "code",
   "execution_count": 13,
   "metadata": {},
   "outputs": [
    {
     "name": "stdout",
     "output_type": "stream",
     "text": [
      "tensor(1.6560)\n"
     ]
    }
   ],
   "source": [
    "z = y.mean()\n",
    "print(z)"
   ]
  },
  {
   "cell_type": "markdown",
   "metadata": {},
   "source": [
    "You can check the gradients for `x` and `y` but they are empty currently."
   ]
  },
  {
   "cell_type": "code",
   "execution_count": 14,
   "metadata": {},
   "outputs": [
    {
     "name": "stdout",
     "output_type": "stream",
     "text": [
      "None\n"
     ]
    }
   ],
   "source": [
    "print(x.grad)"
   ]
  },
  {
   "cell_type": "markdown",
   "metadata": {},
   "source": [
    "To calculate the gradients, you need to run the `.backward` method on a Variable, `z` for example. This will calculate the gradient for `z` with respect to `x`\n",
    "\n",
    "$$\n",
    "\\frac{\\partial z}{\\partial x} = \\frac{\\partial}{\\partial x}\\left[\\frac{1}{n}\\sum_i^n x_i^2\\right] = \\frac{x}{2}\n",
    "$$"
   ]
  },
  {
   "cell_type": "code",
   "execution_count": 15,
   "metadata": {},
   "outputs": [
    {
     "name": "stdout",
     "output_type": "stream",
     "text": [
      "tensor([[-0.4353,  0.9480],\n",
      "        [ 0.0403, -0.7524]])\n",
      "tensor([[-0.4353,  0.9480],\n",
      "        [ 0.0403, -0.7524]])\n"
     ]
    }
   ],
   "source": [
    "z.backward()\n",
    "\n",
    "print(x.grad)\n",
    "print(x/2)"
   ]
  },
  {
   "cell_type": "markdown",
   "metadata": {},
   "source": [
    "These gradients calculations are particularly useful for neural networks. For training we need the gradients of the weights with respect to the cost. With PyTorch, we run data forward through the network to calculate the cost, then, go backwards to calculate the gradients with respect to the cost. Once we have the gradients we can make a gradient descent step. "
   ]
  },
  {
   "cell_type": "markdown",
   "metadata": {},
   "source": [
    "## Get the data and define the network\n",
    "\n",
    "The same as we saw in part 3, we'll load the MNIST dataset and define our network."
   ]
  },
  {
   "cell_type": "code",
   "execution_count": 16,
   "metadata": {},
   "outputs": [],
   "source": [
    "from torchvision import datasets, transforms\n",
    "\n",
    "# Define a transform to normalize the data\n",
    "transform = transforms.Compose([transforms.ToTensor(),\n",
    "                              transforms.Normalize((0.5, 0.5, 0.5), (0.5, 0.5, 0.5)),\n",
    "                             ])\n",
    "# Download and load the training data\n",
    "trainset = datasets.MNIST('MNIST_data/', download=True, train=True, transform=transform)\n",
    "trainloader = torch.utils.data.DataLoader(trainset, batch_size=64, shuffle=True)"
   ]
  },
  {
   "cell_type": "markdown",
   "metadata": {},
   "source": [
    "I'll build a network with `nn.Sequential` here. Only difference from the last part is I'm not actually using softmax on the output, but instead just using the raw output from the last layer. This is because the output from softmax is a probability distribution. Often, the output will have values really close to zero or really close to one. Due to [inaccuracies with representing numbers as floating points](https://docs.python.org/3/tutorial/floatingpoint.html), computations with a softmax output can lose accuracy and become unstable. To get around this, we'll use the raw output, called the **logits**, to calculate the loss."
   ]
  },
  {
   "cell_type": "code",
   "execution_count": 17,
   "metadata": {},
   "outputs": [],
   "source": [
    "# Hyperparameters for our network\n",
    "input_size = 784\n",
    "hidden_sizes = [128, 64]\n",
    "output_size = 10\n",
    "\n",
    "# Build a feed-forward network\n",
    "model = nn.Sequential(OrderedDict([\n",
    "                      ('fc1', nn.Linear(input_size, hidden_sizes[0])),\n",
    "                      ('relu1', nn.ReLU()),\n",
    "                      ('fc2', nn.Linear(hidden_sizes[0], hidden_sizes[1])),\n",
    "                      ('relu2', nn.ReLU()),\n",
    "                      ('logits', nn.Linear(hidden_sizes[1], output_size))]))"
   ]
  },
  {
   "cell_type": "markdown",
   "metadata": {},
   "source": [
    "## Training the network!\n",
    "\n",
    "The first thing we need to do for training is define our loss function. In PyTorch, you'll usually see this as `criterion`. Here we're using softmax output, so we want to use `criterion = nn.CrossEntropyLoss()` as our loss. Later when training, you use `loss = criterion(output, targets)` to calculate the actual loss.\n",
    "\n",
    "We also need to define the optimizer we're using, SGD or Adam, or something along those lines. Here I'll just use SGD with `torch.optim.SGD`, passing in the network parameters and the learning rate."
   ]
  },
  {
   "cell_type": "code",
   "execution_count": 18,
   "metadata": {},
   "outputs": [],
   "source": [
    "criterion = nn.CrossEntropyLoss()\n",
    "optimizer = optim.SGD(model.parameters(), lr=0.01)"
   ]
  },
  {
   "cell_type": "markdown",
   "metadata": {},
   "source": [
    "First, let's consider just one learning step before looping through all the data. The general process with PyTorch:\n",
    "\n",
    "* Make a forward pass through the network to get the logits \n",
    "* Use the logits to calculate the loss\n",
    "* Perform a backward pass through the network with `loss.backward()` to calculate the gradients\n",
    "* Take a step with the optimizer to update the weights\n",
    "\n",
    "Below I'll go through one training step and print out the weights and gradients so you can see how it changes."
   ]
  },
  {
   "cell_type": "code",
   "execution_count": 19,
   "metadata": {},
   "outputs": [
    {
     "name": "stdout",
     "output_type": "stream",
     "text": [
      "Initial weights -  Parameter containing:\n",
      "tensor([[ 2.4503e-02,  4.6567e-03,  2.1561e-02,  ..., -3.0850e-02,\n",
      "          2.8970e-02,  5.4253e-03],\n",
      "        [-1.9115e-02,  3.2760e-02, -1.5061e-02,  ..., -3.1621e-03,\n",
      "         -3.2711e-04,  3.2043e-02],\n",
      "        [ 1.1455e-02, -2.7147e-02,  1.3769e-02,  ...,  1.0854e-02,\n",
      "          9.0048e-03, -7.0550e-03],\n",
      "        ...,\n",
      "        [ 1.5894e-02, -1.3972e-02, -2.8668e-02,  ...,  5.2778e-03,\n",
      "         -2.7261e-02,  2.6525e-02],\n",
      "        [ 9.5086e-03,  6.3960e-03,  2.2631e-02,  ...,  1.7325e-02,\n",
      "         -3.5077e-02, -1.4950e-02],\n",
      "        [ 1.7844e-02, -8.6173e-03, -2.4248e-03,  ...,  1.2027e-04,\n",
      "          3.5506e-02, -2.0700e-02]])\n",
      "Gradient - tensor(1.00000e-02 *\n",
      "       [[-0.2166, -0.2166, -0.2166,  ..., -0.2166, -0.2166, -0.2166],\n",
      "        [ 0.0544,  0.0544,  0.0544,  ...,  0.0544,  0.0544,  0.0544],\n",
      "        [-0.1015, -0.1015, -0.1015,  ..., -0.1015, -0.1015, -0.1015],\n",
      "        ...,\n",
      "        [ 0.1126,  0.1126,  0.1126,  ...,  0.1126,  0.1126,  0.1126],\n",
      "        [ 0.0941,  0.0941,  0.0941,  ...,  0.0941,  0.0941,  0.0941],\n",
      "        [ 0.0515,  0.0515,  0.0515,  ...,  0.0515,  0.0515,  0.0515]])\n"
     ]
    }
   ],
   "source": [
    "print('Initial weights - ', model.fc1.weight)\n",
    "\n",
    "images, labels = next(iter(trainloader))\n",
    "images.resize_(64, 784)\n",
    "\n",
    "# Clear the gradients, do this because gradients are accumulated\n",
    "optimizer.zero_grad()\n",
    "\n",
    "# Forward pass, then backward pass, then update weights\n",
    "output = model.forward(images)\n",
    "loss = criterion(output, labels)\n",
    "loss.backward()\n",
    "print('Gradient -', model.fc1.weight.grad)\n",
    "optimizer.step()"
   ]
  },
  {
   "cell_type": "code",
   "execution_count": 20,
   "metadata": {},
   "outputs": [
    {
     "name": "stdout",
     "output_type": "stream",
     "text": [
      "Updated weights -  Parameter containing:\n",
      "tensor([[ 2.4524e-02,  4.6783e-03,  2.1582e-02,  ..., -3.0829e-02,\n",
      "          2.8991e-02,  5.4470e-03],\n",
      "        [-1.9120e-02,  3.2754e-02, -1.5066e-02,  ..., -3.1675e-03,\n",
      "         -3.3255e-04,  3.2038e-02],\n",
      "        [ 1.1465e-02, -2.7136e-02,  1.3779e-02,  ...,  1.0864e-02,\n",
      "          9.0150e-03, -7.0449e-03],\n",
      "        ...,\n",
      "        [ 1.5883e-02, -1.3983e-02, -2.8679e-02,  ...,  5.2665e-03,\n",
      "         -2.7272e-02,  2.6514e-02],\n",
      "        [ 9.4992e-03,  6.3866e-03,  2.2622e-02,  ...,  1.7316e-02,\n",
      "         -3.5086e-02, -1.4960e-02],\n",
      "        [ 1.7839e-02, -8.6225e-03, -2.4299e-03,  ...,  1.1512e-04,\n",
      "          3.5501e-02, -2.0705e-02]])\n"
     ]
    }
   ],
   "source": [
    "print('Updated weights - ', model.fc1.weight)"
   ]
  },
  {
   "cell_type": "markdown",
   "metadata": {},
   "source": [
    "### Training for real\n",
    "\n",
    "Now we'll put this algorithm into a loop so we can go through all the images. This is fairly straightforward. We'll loop through the mini-batches in our dataset, pass the data through the network to calculate the losses, get the gradients, then run the optimizer."
   ]
  },
  {
   "cell_type": "code",
   "execution_count": 21,
   "metadata": {},
   "outputs": [],
   "source": [
    "optimizer = optim.SGD(model.parameters(), lr=0.003)"
   ]
  },
  {
   "cell_type": "code",
   "execution_count": 22,
   "metadata": {},
   "outputs": [
    {
     "name": "stdout",
     "output_type": "stream",
     "text": [
      "Epoch: 1/3...  Loss: 2.3005\n",
      "Epoch: 1/3...  Loss: 2.2814\n",
      "Epoch: 1/3...  Loss: 2.2599\n",
      "Epoch: 1/3...  Loss: 2.2384\n",
      "Epoch: 1/3...  Loss: 2.2222\n",
      "Epoch: 1/3...  Loss: 2.1869\n",
      "Epoch: 1/3...  Loss: 2.1641\n",
      "Epoch: 1/3...  Loss: 2.1398\n",
      "Epoch: 1/3...  Loss: 2.1075\n",
      "Epoch: 1/3...  Loss: 2.0667\n",
      "Epoch: 1/3...  Loss: 2.0305\n",
      "Epoch: 1/3...  Loss: 1.9944\n",
      "Epoch: 1/3...  Loss: 1.9386\n",
      "Epoch: 1/3...  Loss: 1.8939\n",
      "Epoch: 1/3...  Loss: 1.8372\n",
      "Epoch: 1/3...  Loss: 1.7685\n",
      "Epoch: 1/3...  Loss: 1.7178\n",
      "Epoch: 1/3...  Loss: 1.6375\n",
      "Epoch: 1/3...  Loss: 1.5713\n",
      "Epoch: 1/3...  Loss: 1.4953\n",
      "Epoch: 1/3...  Loss: 1.4389\n",
      "Epoch: 1/3...  Loss: 1.3567\n",
      "Epoch: 1/3...  Loss: 1.2897\n",
      "Epoch: 2/3...  Loss: 0.6565\n",
      "Epoch: 2/3...  Loss: 1.1734\n",
      "Epoch: 2/3...  Loss: 1.1033\n",
      "Epoch: 2/3...  Loss: 1.0786\n",
      "Epoch: 2/3...  Loss: 1.0204\n",
      "Epoch: 2/3...  Loss: 0.9695\n",
      "Epoch: 2/3...  Loss: 0.9009\n",
      "Epoch: 2/3...  Loss: 0.9035\n",
      "Epoch: 2/3...  Loss: 0.8400\n",
      "Epoch: 2/3...  Loss: 0.8276\n",
      "Epoch: 2/3...  Loss: 0.7926\n",
      "Epoch: 2/3...  Loss: 0.7867\n",
      "Epoch: 2/3...  Loss: 0.7537\n",
      "Epoch: 2/3...  Loss: 0.7472\n",
      "Epoch: 2/3...  Loss: 0.7088\n",
      "Epoch: 2/3...  Loss: 0.6791\n",
      "Epoch: 2/3...  Loss: 0.6905\n",
      "Epoch: 2/3...  Loss: 0.6704\n",
      "Epoch: 2/3...  Loss: 0.6680\n",
      "Epoch: 2/3...  Loss: 0.6438\n",
      "Epoch: 2/3...  Loss: 0.6334\n",
      "Epoch: 2/3...  Loss: 0.6022\n",
      "Epoch: 2/3...  Loss: 0.6124\n",
      "Epoch: 3/3...  Loss: 0.0560\n",
      "Epoch: 3/3...  Loss: 0.5849\n",
      "Epoch: 3/3...  Loss: 0.5742\n",
      "Epoch: 3/3...  Loss: 0.5580\n",
      "Epoch: 3/3...  Loss: 0.5521\n",
      "Epoch: 3/3...  Loss: 0.5474\n",
      "Epoch: 3/3...  Loss: 0.5186\n",
      "Epoch: 3/3...  Loss: 0.5616\n",
      "Epoch: 3/3...  Loss: 0.5268\n",
      "Epoch: 3/3...  Loss: 0.5485\n",
      "Epoch: 3/3...  Loss: 0.5218\n",
      "Epoch: 3/3...  Loss: 0.4967\n",
      "Epoch: 3/3...  Loss: 0.4939\n",
      "Epoch: 3/3...  Loss: 0.4753\n",
      "Epoch: 3/3...  Loss: 0.5009\n",
      "Epoch: 3/3...  Loss: 0.4767\n",
      "Epoch: 3/3...  Loss: 0.5006\n",
      "Epoch: 3/3...  Loss: 0.4870\n",
      "Epoch: 3/3...  Loss: 0.4463\n",
      "Epoch: 3/3...  Loss: 0.4825\n",
      "Epoch: 3/3...  Loss: 0.4601\n",
      "Epoch: 3/3...  Loss: 0.4311\n",
      "Epoch: 3/3...  Loss: 0.4642\n",
      "Epoch: 3/3...  Loss: 0.4687\n"
     ]
    }
   ],
   "source": [
    "epochs = 3\n",
    "print_every = 40\n",
    "steps = 0\n",
    "for e in range(epochs):\n",
    "    running_loss = 0\n",
    "    for images, labels in iter(trainloader):\n",
    "        steps += 1\n",
    "        # Flatten MNIST images into a 784 long vector\n",
    "        images.resize_(images.size()[0], 784)\n",
    "        \n",
    "        optimizer.zero_grad()\n",
    "        \n",
    "        # Forward and backward passes\n",
    "        output = model.forward(images)\n",
    "        loss = criterion(output, labels)\n",
    "        loss.backward()\n",
    "        optimizer.step()\n",
    "        \n",
    "        running_loss += loss.item()\n",
    "        \n",
    "        if steps % print_every == 0:\n",
    "            print(\"Epoch: {}/{}... \".format(e+1, epochs),\n",
    "                  \"Loss: {:.4f}\".format(running_loss/print_every))\n",
    "            \n",
    "            running_loss = 0"
   ]
  },
  {
   "cell_type": "markdown",
   "metadata": {},
   "source": [
    "With the network trained, we can check out it's predictions."
   ]
  },
  {
   "cell_type": "code",
   "execution_count": 30,
   "metadata": {},
   "outputs": [
    {
     "data": {
      "image/png": "[encoded data removed]",
      "text/plain": [
       "<matplotlib.figure.Figure at 0x7ff5d55084a8>"
      ]
     },
     "metadata": {
      "image/png": {
       "height": 224,
       "width": 423
      }
     },
     "output_type": "display_data"
    }
   ],
   "source": [
    "images, labels = next(iter(trainloader))\n",
    "\n",
    "img = images[13].view(1, 784)\n",
    "# Turn off gradients to speed up this part\n",
    "with torch.no_grad():\n",
    "    logits = model.forward(img)\n",
    "\n",
    "# Output of the network are logits, need to take softmax for probabilities\n",
    "ps = F.softmax(logits, dim=1)\n",
    "helper.view_classify(img.view(1, 28, 28), ps)"
   ]
  },
  {
   "cell_type": "markdown",
   "metadata": {},
   "source": [
    "Now our network is brilliant. It can accurately predict the digits in our images. Next up you'll write the code for training a neural network on a more complex dataset."
   ]
  }
 ],
 "metadata": {
  "kernelspec": {
   "display_name": "Python 3",
   "language": "python",
   "name": "python3"
  },
  "language_info": {
   "codemirror_mode": {
    "name": "ipython",
    "version": 3
   },
   "file_extension": ".py",
   "mimetype": "text/x-python",
   "name": "python",
   "nbconvert_exporter": "python",
   "pygments_lexer": "ipython3",
   "version": "3.6.3"
  }
 },
 "nbformat": 4,
 "nbformat_minor": 2
}
