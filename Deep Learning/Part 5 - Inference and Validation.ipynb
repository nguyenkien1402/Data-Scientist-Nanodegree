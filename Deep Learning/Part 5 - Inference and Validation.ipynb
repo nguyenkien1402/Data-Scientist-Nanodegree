{
 "cells": [
  {
   "cell_type": "markdown",
   "metadata": {},
   "source": [
    "# Inference and Validation\n",
    "\n",
    "Now that you have a trained network, you can use it for making predictions. This is typically called **inference**, a term borrowed from statistics. However, neural networks have a tendency to perform *too well* on the training data and aren't able to generalize to data that hasn't been seen before. This is called **overfitting** and it impairs inference performance. To test for overfitting while training, we measure the performance on data not in the training set called the **validation** dataset. We avoid overfitting through regularization such as dropout while monitoring the validation performance during training. In this notebook, I'll show you how to do this in PyTorch. \n",
    "\n",
    "First off, I'll implement my own feedforward network for the exercise you worked on in part 4 using the Fashion-MNIST dataset.\n",
    "\n",
    "As usual, let's start by loading the dataset through torchvision. You'll learn more about torchvision and loading data in a later part."
   ]
  },
  {
   "cell_type": "code",
   "execution_count": 1,
   "metadata": {},
   "outputs": [],
   "source": [
    "%matplotlib inline\n",
    "%config InlineBackend.figure_format = 'retina'\n",
    "\n",
    "import matplotlib.pyplot as plt\n",
    "import numpy as np\n",
    "import time\n",
    "\n",
    "import torch\n",
    "from torch import nn\n",
    "from torch import optim\n",
    "import torch.nn.functional as F\n",
    "from torchvision import datasets, transforms\n",
    "\n",
    "import helper"
   ]
  },
  {
   "cell_type": "code",
   "execution_count": 2,
   "metadata": {},
   "outputs": [],
   "source": [
    "# Define a transform to normalize the data\n",
    "transform = transforms.Compose([transforms.ToTensor(),\n",
    "                                transforms.Normalize((0.5, 0.5, 0.5), (0.5, 0.5, 0.5))])\n",
    "# Download and load the training data\n",
    "trainset = datasets.FashionMNIST('F_MNIST_data/', download=True, train=True, transform=transform)\n",
    "trainloader = torch.utils.data.DataLoader(trainset, batch_size=64, shuffle=True)\n",
    "\n",
    "# Download and load the test data\n",
    "testset = datasets.FashionMNIST('F_MNIST_data/', download=True, train=False, transform=transform)\n",
    "testloader = torch.utils.data.DataLoader(testset, batch_size=64, shuffle=True)"
   ]
  },
  {
   "cell_type": "markdown",
   "metadata": {},
   "source": [
    "## Building the network\n",
    "\n",
    "As with MNIST, each image in Fashion-MNIST is 28x28 which is a total of 784 pixels, and there are 10 classes. I'm going to get a bit more advanced here, I want to be able to build a network with an arbitrary number of hidden layers. That is, I want to pass in a parameter like `hidden_layers = [512, 256, 128]` and the network is contructed with three hidden layers have 512, 256, and 128 units respectively. To do this, I'll use `nn.ModuleList` to allow for an arbitrary number of hidden layers. Using `nn.ModuleList` works pretty much the same as a normal Python list, except that it registers each hidden layer `Linear` module properly so the model is aware of the layers.\n",
    "\n",
    "The issue here is I need a way to define each `nn.Linear` module with the appropriate layer sizes. Since each `nn.Linear` operation needs an input size and an output size, I need something that looks like this:\n",
    "\n",
    "```python\n",
    "# Create ModuleList and add input layer\n",
    "hidden_layers = nn.ModuleList([nn.Linear(input_size, hidden_layers[0])])\n",
    "# Add hidden layers to the ModuleList\n",
    "hidden_layers.extend([nn.Linear(h1, h2) for h1, h2 in layer_sizes])\n",
    "```\n",
    "\n",
    "Getting these pairs of input and output sizes can be done with a handy trick using `zip`.\n",
    "\n",
    "```python\n",
    "hidden_layers = [512, 256, 128, 64]\n",
    "layer_sizes = zip(hidden_layers[:-1], hidden_layers[1:])\n",
    "for each in layer_sizes:\n",
    "    print(each)\n",
    "\n",
    ">> (512, 256)\n",
    ">> (256, 128)\n",
    ">> (128, 64)\n",
    "```\n",
    "\n",
    "I also have the `forward` method returning the log-softmax for the output. Since softmax is a probability distibution over the classes, the log-softmax is a log probability which comes with a [lot of benefits](https://en.wikipedia.org/wiki/Log_probability). Using the log probability, computations are often faster and more accurate. To get the class probabilities later, I'll need to take the exponential (`torch.exp`) of the output. Algebra refresher... the exponential function is the inverse of the log function:\n",
    "\n",
    "$$ \\large{e^{\\ln{x}} = x }$$\n",
    "\n",
    "We can include dropout in our network with [`nn.Dropout`](http://pytorch.org/docs/master/nn.html#dropout). This works similar to other modules such as `nn.Linear`. It also takes the dropout probability as an input which we can pass as an input to the network."
   ]
  },
  {
   "cell_type": "code",
   "execution_count": 6,
   "metadata": {},
   "outputs": [],
   "source": [
    "class Network(nn.Module):\n",
    "    def __init__(self, input_size, output_size, hidden_layers, drop_p=0.5):\n",
    "        ''' Builds a feedforward network with arbitrary hidden layers.\n",
    "        \n",
    "            Arguments\n",
    "            ---------\n",
    "            input_size: integer, size of the input\n",
    "            output_size: integer, size of the output layer\n",
    "            hidden_layers: list of integers, the sizes of the hidden layers\n",
    "            drop_p: float between 0 and 1, dropout probability\n",
    "        '''\n",
    "        super().__init__()\n",
    "        # Add the first layer, input to a hidden layer\n",
    "        self.hidden_layers = nn.ModuleList([nn.Linear(input_size, hidden_layers[0])])\n",
    "        \n",
    "        # Add a variable number of more hidden layers\n",
    "        layer_sizes = zip(hidden_layers[:-1], hidden_layers[1:])\n",
    "        self.hidden_layers.extend([nn.Linear(h1, h2) for h1, h2 in layer_sizes])\n",
    "        \n",
    "        self.output = nn.Linear(hidden_layers[-1], output_size)\n",
    "        \n",
    "        self.dropout = nn.Dropout(p=drop_p)\n",
    "        \n",
    "    def forward(self, x):\n",
    "        ''' Forward pass through the network, returns the output logits '''\n",
    "        \n",
    "        # Forward through each layer in `hidden_layers`, with ReLU activation and dropout\n",
    "        for linear in self.hidden_layers:\n",
    "            x = F.relu(linear(x))\n",
    "            x = self.dropout(x)\n",
    "        \n",
    "        x = self.output(x)\n",
    "        \n",
    "        return F.log_softmax(x, dim=1)"
   ]
  },
  {
   "cell_type": "markdown",
   "metadata": {},
   "source": [
    "# Train the network\n",
    "\n",
    "Since the model's forward method returns the log-softmax, I used the [negative log loss](http://pytorch.org/docs/master/nn.html#nllloss) as my criterion, `nn.NLLLoss()`. I also chose to use the [Adam optimizer](http://pytorch.org/docs/master/optim.html#torch.optim.Adam). This is a variant of stochastic gradient descent which includes momentum and in general trains faster than your basic SGD.\n",
    "\n",
    "I've also included a block to measure the validation loss and accuracy. Since I'm using dropout in the network, I need to turn it off during inference. Otherwise, the network will appear to perform poorly because many of the connections are turned off. PyTorch allows you to set a model in \"training\" or \"evaluation\" modes with `model.train()` and `model.eval()`, respectively. In training mode, dropout is turned on, while in evaluation mode, dropout is turned off. This effects other modules as well that should be on during training but off during inference.\n",
    "\n",
    "The validation code consists of a forward pass through the validation set (also split into batches). With the log-softmax output, I calculate the loss on the validation set, as well as the prediction accuracy."
   ]
  },
  {
   "cell_type": "code",
   "execution_count": 7,
   "metadata": {},
   "outputs": [],
   "source": [
    "# Create the network, define the criterion and optimizer\n",
    "model = Network(784, 10, [516, 256], drop_p=0.5)\n",
    "criterion = nn.NLLLoss()\n",
    "optimizer = optim.Adam(model.parameters(), lr=0.001)"
   ]
  },
  {
   "cell_type": "code",
   "execution_count": 8,
   "metadata": {},
   "outputs": [],
   "source": [
    "# Implement a function for the validation pass\n",
    "def validation(model, testloader, criterion):\n",
    "    test_loss = 0\n",
    "    accuracy = 0\n",
    "    for images, labels in testloader:\n",
    "\n",
    "        images.resize_(images.shape[0], 784)\n",
    "\n",
    "        output = model.forward(images)\n",
    "        test_loss += criterion(output, labels).item()\n",
    "\n",
    "        ps = torch.exp(output)\n",
    "        equality = (labels.data == ps.max(dim=1)[1])\n",
    "        accuracy += equality.type(torch.FloatTensor).mean()\n",
    "    \n",
    "    return test_loss, accuracy"
   ]
  },
  {
   "cell_type": "code",
   "execution_count": 9,
   "metadata": {},
   "outputs": [
    {
     "name": "stdout",
     "output_type": "stream",
     "text": [
      "Epoch: 1/2..  Training Loss: 1.304..  Test Loss: 0.733..  Test Accuracy: 0.723\n",
      "Epoch: 1/2..  Training Loss: 0.808..  Test Loss: 0.667..  Test Accuracy: 0.750\n",
      "Epoch: 1/2..  Training Loss: 0.752..  Test Loss: 0.640..  Test Accuracy: 0.763\n",
      "Epoch: 1/2..  Training Loss: 0.692..  Test Loss: 0.620..  Test Accuracy: 0.768\n",
      "Epoch: 1/2..  Training Loss: 0.656..  Test Loss: 0.567..  Test Accuracy: 0.787\n",
      "Epoch: 1/2..  Training Loss: 0.618..  Test Loss: 0.539..  Test Accuracy: 0.798\n",
      "Epoch: 1/2..  Training Loss: 0.597..  Test Loss: 0.554..  Test Accuracy: 0.796\n",
      "Epoch: 1/2..  Training Loss: 0.614..  Test Loss: 0.564..  Test Accuracy: 0.796\n",
      "Epoch: 1/2..  Training Loss: 0.591..  Test Loss: 0.527..  Test Accuracy: 0.801\n",
      "Epoch: 1/2..  Training Loss: 0.578..  Test Loss: 0.492..  Test Accuracy: 0.817\n",
      "Epoch: 1/2..  Training Loss: 0.564..  Test Loss: 0.521..  Test Accuracy: 0.801\n",
      "Epoch: 1/2..  Training Loss: 0.510..  Test Loss: 0.491..  Test Accuracy: 0.819\n",
      "Epoch: 1/2..  Training Loss: 0.554..  Test Loss: 0.495..  Test Accuracy: 0.821\n",
      "Epoch: 1/2..  Training Loss: 0.535..  Test Loss: 0.489..  Test Accuracy: 0.821\n",
      "Epoch: 1/2..  Training Loss: 0.572..  Test Loss: 0.475..  Test Accuracy: 0.823\n",
      "Epoch: 1/2..  Training Loss: 0.543..  Test Loss: 0.487..  Test Accuracy: 0.822\n",
      "Epoch: 1/2..  Training Loss: 0.532..  Test Loss: 0.468..  Test Accuracy: 0.825\n",
      "Epoch: 1/2..  Training Loss: 0.507..  Test Loss: 0.477..  Test Accuracy: 0.822\n",
      "Epoch: 1/2..  Training Loss: 0.538..  Test Loss: 0.459..  Test Accuracy: 0.833\n",
      "Epoch: 1/2..  Training Loss: 0.555..  Test Loss: 0.471..  Test Accuracy: 0.824\n",
      "Epoch: 1/2..  Training Loss: 0.515..  Test Loss: 0.473..  Test Accuracy: 0.823\n",
      "Epoch: 1/2..  Training Loss: 0.549..  Test Loss: 0.467..  Test Accuracy: 0.829\n",
      "Epoch: 1/2..  Training Loss: 0.471..  Test Loss: 0.450..  Test Accuracy: 0.837\n",
      "Epoch: 2/2..  Training Loss: 0.495..  Test Loss: 0.454..  Test Accuracy: 0.830\n",
      "Epoch: 2/2..  Training Loss: 0.529..  Test Loss: 0.451..  Test Accuracy: 0.835\n",
      "Epoch: 2/2..  Training Loss: 0.485..  Test Loss: 0.459..  Test Accuracy: 0.825\n",
      "Epoch: 2/2..  Training Loss: 0.498..  Test Loss: 0.461..  Test Accuracy: 0.830\n",
      "Epoch: 2/2..  Training Loss: 0.502..  Test Loss: 0.440..  Test Accuracy: 0.838\n",
      "Epoch: 2/2..  Training Loss: 0.513..  Test Loss: 0.462..  Test Accuracy: 0.832\n",
      "Epoch: 2/2..  Training Loss: 0.515..  Test Loss: 0.447..  Test Accuracy: 0.839\n",
      "Epoch: 2/2..  Training Loss: 0.496..  Test Loss: 0.442..  Test Accuracy: 0.836\n",
      "Epoch: 2/2..  Training Loss: 0.487..  Test Loss: 0.434..  Test Accuracy: 0.839\n",
      "Epoch: 2/2..  Training Loss: 0.460..  Test Loss: 0.425..  Test Accuracy: 0.844\n",
      "Epoch: 2/2..  Training Loss: 0.461..  Test Loss: 0.441..  Test Accuracy: 0.838\n",
      "Epoch: 2/2..  Training Loss: 0.476..  Test Loss: 0.440..  Test Accuracy: 0.840\n",
      "Epoch: 2/2..  Training Loss: 0.486..  Test Loss: 0.446..  Test Accuracy: 0.838\n",
      "Epoch: 2/2..  Training Loss: 0.460..  Test Loss: 0.467..  Test Accuracy: 0.829\n",
      "Epoch: 2/2..  Training Loss: 0.512..  Test Loss: 0.428..  Test Accuracy: 0.845\n",
      "Epoch: 2/2..  Training Loss: 0.474..  Test Loss: 0.434..  Test Accuracy: 0.842\n",
      "Epoch: 2/2..  Training Loss: 0.490..  Test Loss: 0.447..  Test Accuracy: 0.833\n",
      "Epoch: 2/2..  Training Loss: 0.483..  Test Loss: 0.428..  Test Accuracy: 0.841\n",
      "Epoch: 2/2..  Training Loss: 0.469..  Test Loss: 0.442..  Test Accuracy: 0.839\n",
      "Epoch: 2/2..  Training Loss: 0.468..  Test Loss: 0.437..  Test Accuracy: 0.842\n",
      "Epoch: 2/2..  Training Loss: 0.509..  Test Loss: 0.432..  Test Accuracy: 0.845\n",
      "Epoch: 2/2..  Training Loss: 0.457..  Test Loss: 0.417..  Test Accuracy: 0.851\n",
      "Epoch: 2/2..  Training Loss: 0.474..  Test Loss: 0.421..  Test Accuracy: 0.844\n"
     ]
    }
   ],
   "source": [
    "epochs = 2\n",
    "steps = 0\n",
    "running_loss = 0\n",
    "print_every = 40\n",
    "for e in range(epochs):\n",
    "    model.train()\n",
    "    for images, labels in trainloader:\n",
    "        steps += 1\n",
    "        \n",
    "        # Flatten images into a 784 long vector\n",
    "        images.resize_(images.size()[0], 784)\n",
    "        \n",
    "        optimizer.zero_grad()\n",
    "        \n",
    "        output = model.forward(images)\n",
    "        loss = criterion(output, labels)\n",
    "        loss.backward()\n",
    "        optimizer.step()\n",
    "        \n",
    "        running_loss += loss.item()\n",
    "        \n",
    "        if steps % print_every == 0:\n",
    "            # Make sure network is in eval mode for inference\n",
    "            model.eval()\n",
    "            \n",
    "            # Turn off gradients for validation, saves memory and computations\n",
    "            with torch.no_grad():\n",
    "                test_loss, accuracy = validation(model, testloader, criterion)\n",
    "                \n",
    "            print(\"Epoch: {}/{}.. \".format(e+1, epochs),\n",
    "                  \"Training Loss: {:.3f}.. \".format(running_loss/print_every),\n",
    "                  \"Test Loss: {:.3f}.. \".format(test_loss/len(testloader)),\n",
    "                  \"Test Accuracy: {:.3f}\".format(accuracy/len(testloader)))\n",
    "            \n",
    "            running_loss = 0\n",
    "            \n",
    "            # Make sure training is back on\n",
    "            model.train()"
   ]
  },
  {
   "cell_type": "markdown",
   "metadata": {},
   "source": [
    "## Inference\n",
    "\n",
    "Now that the model is trained, we can use it for inference. We've done this before, but now we need to remember to set the model in inference mode with `model.eval()`. You'll also want to turn off autograd with the `torch.no_grad()` context."
   ]
  },
  {
   "cell_type": "code",
   "execution_count": 10,
   "metadata": {},
   "outputs": [
    {
     "data": {
      "image/png": "[encoded data removed]",
      "text/plain": [
       "<matplotlib.figure.Figure at 0x7ff7b2b77c50>"
      ]
     },
     "metadata": {
      "image/png": {
       "height": 204,
       "width": 423
      }
     },
     "output_type": "display_data"
    }
   ],
   "source": [
    "# Test out your network!\n",
    "\n",
    "model.eval()\n",
    "\n",
    "dataiter = iter(testloader)\n",
    "images, labels = dataiter.next()\n",
    "img = images[0]\n",
    "# Convert 2D image to 1D vector\n",
    "img = img.view(1, 784)\n",
    "\n",
    "# Calculate the class probabilities (softmax) for img\n",
    "with torch.no_grad():\n",
    "    output = model.forward(img)\n",
    "\n",
    "ps = torch.exp(output)\n",
    "\n",
    "# Plot the image and probabilities\n",
    "helper.view_classify(img.view(1, 28, 28), ps, version='Fashion')"
   ]
  },
  {
   "cell_type": "markdown",
   "metadata": {},
   "source": [
    "## Next Up!\n",
    "\n",
    "In the next part, I'll show you how to save your trained models. In general, you won't want to train a model everytime you need it. Instead, you'll train once, save it, then load the model when you want to train more or use if for inference."
   ]
  },
  {
   "cell_type": "code",
   "execution_count": 14,
   "metadata": {},
   "outputs": [
    {
     "data": {
      "text/plain": [
       "tensor(0.3223)"
      ]
     },
     "execution_count": 14,
     "metadata": {},
     "output_type": "execute_result"
    }
   ],
   "source": [
    "test_loss = 0\n",
    "accuracy = 0\n",
    "images, labels = next(iter(testloader))\n",
    "images.resize_(images.shape[0], 784)\n",
    "\n",
    "output = model.forward(images)\n",
    "criterion(output, labels)\n",
    "\n",
    "\n",
    "        "
   ]
  },
  {
   "cell_type": "code",
   "execution_count": 12,
   "metadata": {},
   "outputs": [
    {
     "data": {
      "text/plain": [
       "0.2665298283100128"
      ]
     },
     "execution_count": 12,
     "metadata": {},
     "output_type": "execute_result"
    }
   ],
   "source": [
    "test_loss"
   ]
  },
  {
   "cell_type": "code",
   "execution_count": 17,
   "metadata": {},
   "outputs": [
    {
     "data": {
      "text/plain": [
       "torch.Size([64, 10])"
      ]
     },
     "execution_count": 17,
     "metadata": {},
     "output_type": "execute_result"
    }
   ],
   "source": [
    "output.size()"
   ]
  },
  {
   "cell_type": "code",
   "execution_count": 19,
   "metadata": {},
   "outputs": [],
   "source": [
    "ps = torch.exp(output)"
   ]
  },
  {
   "cell_type": "code",
   "execution_count": 20,
   "metadata": {},
   "outputs": [
    {
     "data": {
      "text/plain": [
       "torch.Size([64, 10])"
      ]
     },
     "execution_count": 20,
     "metadata": {},
     "output_type": "execute_result"
    }
   ],
   "source": [
    "ps.size()"
   ]
  },
  {
   "cell_type": "code",
   "execution_count": 24,
   "metadata": {},
   "outputs": [
    {
     "data": {
      "text/plain": [
       "(tensor([ 1.0000,  0.9996,  0.9873,  0.9883,  0.9996,  0.9991,  0.9897,\n",
       "          0.9899,  0.7685,  0.9461,  0.9974,  0.9816,  0.9900,  0.9239,\n",
       "          0.6971,  0.7502,  1.0000,  0.5154,  1.0000,  0.9910,  0.9983,\n",
       "          0.9199,  0.9998,  0.9997,  0.9992,  0.9069,  0.7597,  0.6809,\n",
       "          0.8462,  0.6355,  0.6005,  0.4377,  0.8350,  0.9590,  0.9447,\n",
       "          0.8520,  0.6185,  0.9579,  0.9823,  0.9840,  0.9859,  1.0000,\n",
       "          0.6288,  0.9997,  0.3849,  0.7365,  0.9999,  0.6559,  0.9996,\n",
       "          0.9423,  0.9335,  0.9632,  1.0000,  1.0000,  0.9418,  0.9993,\n",
       "          0.9873,  0.5862,  0.7077,  0.9943,  0.9997,  0.3784,  0.8864,\n",
       "          0.9979]),\n",
       " tensor([ 1,  8,  4,  8,  8,  0,  2,  5,  0,  2,  3,  9,  2,  8,\n",
       "          2,  4,  5,  2,  1,  9,  5,  8,  9,  5,  9,  9,  2,  3,\n",
       "          9,  4,  0,  4,  4,  7,  8,  4,  5,  9,  7,  9,  9,  5,\n",
       "          3,  9,  3,  7,  7,  4,  8,  4,  6,  2,  9,  1,  2,  1,\n",
       "          6,  3,  4,  9,  7,  3,  4,  9]))"
      ]
     },
     "execution_count": 24,
     "metadata": {},
     "output_type": "execute_result"
    }
   ],
   "source": [
    "ps.max(dim = 1)"
   ]
  },
  {
   "cell_type": "code",
   "execution_count": 25,
   "metadata": {},
   "outputs": [
    {
     "data": {
      "text/plain": [
       "tensor([ 1,  8,  4,  8,  8,  0,  2,  5,  0,  2,  3,  9,  2,  8,\n",
       "         2,  4,  5,  2,  1,  9,  5,  8,  9,  5,  9,  9,  2,  3,\n",
       "         9,  4,  0,  4,  4,  7,  8,  4,  5,  9,  7,  9,  9,  5,\n",
       "         3,  9,  3,  7,  7,  4,  8,  4,  6,  2,  9,  1,  2,  1,\n",
       "         6,  3,  4,  9,  7,  3,  4,  9])"
      ]
     },
     "execution_count": 25,
     "metadata": {},
     "output_type": "execute_result"
    }
   ],
   "source": [
    "ps.max(dim = 1)[1]"
   ]
  },
  {
   "cell_type": "code",
   "execution_count": 26,
   "metadata": {},
   "outputs": [
    {
     "data": {
      "text/plain": [
       "tensor([[ 8.1663e-09,  1.0000e+00,  8.6849e-10,  2.9890e-08,  8.2648e-10,\n",
       "          3.3024e-12,  2.3104e-10,  5.9689e-12,  1.7682e-12,  1.4053e-15],\n",
       "        [ 2.5240e-04,  3.5756e-08,  2.0175e-06,  2.6517e-05,  7.2900e-05,\n",
       "          2.5141e-05,  8.7058e-06,  6.3752e-06,  9.9961e-01,  6.3602e-08],\n",
       "        [ 2.1281e-07,  4.8163e-09,  9.6097e-03,  3.7255e-08,  9.8729e-01,\n",
       "          6.0050e-09,  3.0989e-03,  2.7985e-12,  6.7688e-07,  3.7306e-13],\n",
       "        [ 6.7778e-03,  6.8781e-08,  8.0633e-04,  1.5829e-05,  1.0846e-03,\n",
       "          2.6745e-04,  2.7219e-03,  8.5097e-06,  9.8832e-01,  1.1769e-07],\n",
       "        [ 1.1588e-04,  7.0451e-09,  1.7278e-05,  1.1086e-07,  1.5887e-05,\n",
       "          2.4518e-06,  2.9360e-04,  2.6003e-07,  9.9955e-01,  1.4847e-07],\n",
       "        [ 9.9906e-01,  6.0404e-09,  2.8323e-05,  1.0113e-05,  3.8756e-10,\n",
       "          1.8681e-14,  9.0019e-04,  4.4409e-18,  8.0748e-10,  4.7856e-17],\n",
       "        [ 5.6516e-04,  8.8222e-07,  9.8975e-01,  8.2400e-06,  3.4916e-04,\n",
       "          2.3539e-09,  9.3305e-03,  1.0642e-11,  7.6357e-07,  2.4515e-11],\n",
       "        [ 3.1798e-07,  1.2866e-09,  2.5877e-07,  2.6113e-09,  7.5742e-08,\n",
       "          9.8992e-01,  2.3509e-07,  5.6234e-04,  1.2755e-06,  9.5150e-03],\n",
       "        [ 7.6849e-01,  3.1665e-04,  6.4998e-03,  3.8777e-03,  9.8105e-04,\n",
       "          1.9496e-05,  2.1827e-01,  5.0346e-07,  1.5419e-03,  1.3107e-06],\n",
       "        [ 9.5948e-03,  1.5128e-04,  9.4607e-01,  3.2984e-04,  3.6785e-03,\n",
       "          6.9116e-07,  4.0073e-02,  1.6904e-08,  9.8221e-05,  2.7277e-08],\n",
       "        [ 7.8493e-05,  2.3961e-03,  6.2620e-07,  9.9740e-01,  8.9181e-05,\n",
       "          5.0723e-08,  2.5829e-05,  2.1264e-08,  1.0653e-05,  3.1540e-09],\n",
       "        [ 1.1514e-07,  1.9893e-08,  2.7633e-08,  1.0696e-07,  1.5084e-08,\n",
       "          8.3449e-03,  6.1386e-08,  1.0008e-02,  5.7881e-07,  9.8165e-01],\n",
       "        [ 7.8209e-04,  1.4655e-05,  9.8998e-01,  6.4887e-05,  1.7950e-03,\n",
       "          8.2135e-08,  7.3580e-03,  7.1787e-10,  3.3377e-06,  6.5269e-10],\n",
       "        [ 2.2902e-02,  9.4300e-04,  2.5674e-03,  4.8230e-03,  9.3541e-03,\n",
       "          2.9654e-02,  2.1122e-03,  3.6152e-03,  9.2393e-01,  9.4570e-05],\n",
       "        [ 1.4933e-04,  4.7483e-05,  6.9710e-01,  1.0691e-04,  2.6152e-01,\n",
       "          3.6570e-08,  4.1063e-02,  1.2769e-09,  1.7923e-05,  1.0083e-09],\n",
       "        [ 3.0228e-04,  8.2213e-05,  1.6689e-01,  4.5500e-04,  7.5018e-01,\n",
       "          8.0319e-06,  8.1715e-02,  5.5938e-07,  3.6775e-04,  2.2860e-07],\n",
       "        [ 4.0605e-09,  2.0017e-13,  7.3829e-09,  1.4639e-12,  1.4953e-09,\n",
       "          9.9999e-01,  1.4186e-08,  2.2667e-06,  1.6277e-08,  1.0143e-05],\n",
       "        [ 3.4469e-01,  2.3156e-03,  5.1540e-01,  6.7960e-03,  5.6888e-03,\n",
       "          5.3958e-05,  1.2351e-01,  1.7311e-06,  1.5363e-03,  2.8781e-06],\n",
       "        [ 1.7239e-09,  1.0000e+00,  6.5821e-11,  9.5123e-09,  1.4452e-10,\n",
       "          2.8670e-13,  3.1207e-11,  5.0247e-13,  1.6027e-13,  7.1631e-17],\n",
       "        [ 1.2602e-09,  4.2360e-11,  1.1200e-10,  1.8645e-10,  1.9041e-11,\n",
       "          8.8240e-03,  2.1446e-10,  2.1294e-04,  2.0276e-09,  9.9096e-01],\n",
       "        [ 3.5599e-06,  5.2016e-09,  4.1060e-06,  2.5394e-08,  4.1427e-06,\n",
       "          9.9828e-01,  9.1911e-06,  1.3585e-03,  2.5508e-04,  8.5466e-05],\n",
       "        [ 1.0228e-02,  1.1355e-04,  1.1132e-02,  6.2919e-04,  1.9320e-02,\n",
       "          1.1509e-03,  3.6965e-02,  2.9469e-04,  9.1991e-01,  2.5555e-04],\n",
       "        [ 4.2770e-13,  1.1882e-15,  1.5897e-14,  2.5240e-14,  1.0641e-15,\n",
       "          1.7000e-04,  3.1628e-14,  5.1216e-06,  4.5948e-13,  9.9982e-01],\n",
       "        [ 2.6926e-07,  3.7220e-10,  4.3048e-07,  1.3947e-09,  3.5285e-07,\n",
       "          9.9968e-01,  9.5450e-07,  2.9685e-04,  4.2330e-06,  1.5252e-05],\n",
       "        [ 1.4188e-10,  6.6611e-12,  6.3604e-12,  7.5949e-11,  2.4181e-12,\n",
       "          3.4100e-04,  2.7465e-11,  5.0401e-04,  7.9398e-10,  9.9915e-01],\n",
       "        [ 3.4895e-08,  7.5495e-09,  2.5421e-09,  6.6282e-08,  1.7415e-09,\n",
       "          1.6915e-03,  7.7073e-09,  9.1439e-02,  2.5142e-06,  9.0687e-01],\n",
       "        [ 4.3503e-02,  1.1581e-02,  7.5973e-01,  8.5824e-03,  9.9286e-02,\n",
       "          4.5348e-04,  7.3530e-02,  3.9720e-05,  3.2722e-03,  2.1030e-05],\n",
       "        [ 1.5663e-03,  5.3734e-03,  1.0096e-02,  6.8088e-01,  2.8073e-01,\n",
       "          2.7349e-06,  2.0821e-02,  8.1325e-07,  5.2532e-04,  8.1186e-07],\n",
       "        [ 7.4945e-09,  2.0381e-10,  4.7187e-09,  5.3913e-10,  3.8809e-10,\n",
       "          1.5364e-01,  1.8224e-09,  1.5141e-04,  1.6293e-09,  8.4621e-01],\n",
       "        [ 1.4554e-04,  1.2003e-03,  1.2609e-03,  3.5659e-01,  6.3550e-01,\n",
       "          4.5832e-07,  5.1503e-03,  5.5035e-07,  1.5288e-04,  1.0715e-07],\n",
       "        [ 6.0053e-01,  5.5325e-03,  2.5662e-01,  3.2255e-02,  2.9434e-03,\n",
       "          1.0285e-04,  9.9525e-02,  8.9802e-06,  2.4723e-03,  1.3501e-05],\n",
       "        [ 5.0021e-03,  5.1311e-06,  2.2008e-01,  6.0669e-05,  4.3766e-01,\n",
       "          1.6474e-04,  2.8334e-01,  3.7729e-06,  5.3685e-02,  7.1377e-07],\n",
       "        [ 6.7182e-04,  1.7591e-04,  1.0355e-01,  2.8875e-03,  8.3500e-01,\n",
       "          1.8572e-05,  5.6276e-02,  3.3407e-06,  1.4106e-03,  2.7593e-06],\n",
       "        [ 8.0928e-06,  2.3787e-06,  5.1767e-07,  6.8019e-06,  2.2561e-06,\n",
       "          3.5802e-02,  2.9691e-06,  9.5903e-01,  4.1268e-04,  4.7297e-03],\n",
       "        [ 1.6241e-02,  2.7670e-05,  7.5698e-03,  1.5065e-04,  3.9403e-03,\n",
       "          3.8914e-04,  2.6772e-02,  7.6175e-05,  9.4467e-01,  1.5989e-04],\n",
       "        [ 4.9398e-04,  1.0357e-04,  4.7429e-02,  6.2757e-03,  8.5202e-01,\n",
       "          9.0058e-06,  9.2918e-02,  1.8178e-06,  7.4328e-04,  1.2595e-06],\n",
       "        [ 8.5381e-06,  6.3549e-07,  1.6144e-06,  1.9819e-06,  2.5841e-06,\n",
       "          6.1852e-01,  5.0256e-06,  3.8039e-01,  3.4052e-04,  7.2870e-04],\n",
       "        [ 1.1135e-05,  1.8376e-06,  2.3847e-06,  8.5489e-06,  1.3436e-06,\n",
       "          2.2102e-02,  5.2614e-06,  1.9927e-02,  2.8149e-05,  9.5791e-01],\n",
       "        [ 3.0703e-06,  7.0742e-07,  9.5142e-08,  2.4441e-06,  4.7154e-07,\n",
       "          1.5217e-02,  8.6117e-07,  9.8234e-01,  8.3098e-05,  2.3574e-03],\n",
       "        [ 5.4149e-08,  4.6595e-09,  5.4289e-09,  1.7455e-08,  2.0541e-09,\n",
       "          1.3125e-02,  1.4617e-08,  2.8261e-03,  2.4353e-07,  9.8405e-01],\n",
       "        [ 8.1948e-07,  8.8500e-08,  1.9141e-07,  4.3398e-07,  7.9021e-08,\n",
       "          1.0929e-02,  4.1790e-07,  3.1579e-03,  9.8948e-07,  9.8591e-01],\n",
       "        [ 1.7334e-09,  2.5427e-13,  3.5419e-11,  1.2681e-12,  4.6384e-12,\n",
       "          9.9998e-01,  1.3958e-10,  5.4059e-06,  2.4223e-09,  1.1139e-05],\n",
       "        [ 1.7986e-01,  6.6651e-02,  2.1942e-02,  6.2884e-01,  2.3750e-02,\n",
       "          5.4348e-04,  7.5051e-02,  1.2021e-04,  3.1507e-03,  9.4581e-05],\n",
       "        [ 4.9988e-11,  8.5016e-13,  1.9070e-12,  2.2476e-11,  7.5342e-13,\n",
       "          1.1874e-04,  1.2419e-11,  1.5231e-04,  3.3656e-10,  9.9973e-01],\n",
       "        [ 2.2331e-01,  2.7255e-02,  3.8088e-02,  3.8495e-01,  5.4253e-02,\n",
       "          9.6695e-04,  2.5342e-01,  3.8143e-04,  1.6975e-02,  4.0234e-04],\n",
       "        [ 1.9042e-06,  3.2799e-07,  5.5823e-08,  4.2952e-06,  1.5720e-07,\n",
       "          3.2042e-03,  4.9864e-07,  7.3654e-01,  1.8970e-04,  2.6006e-01],\n",
       "        [ 3.1369e-11,  5.6379e-12,  2.7049e-14,  7.0795e-12,  5.5932e-13,\n",
       "          1.1971e-04,  1.9503e-12,  9.9988e-01,  8.5365e-09,  2.4246e-07],\n",
       "        [ 5.3616e-05,  1.6027e-06,  6.3392e-02,  4.1064e-05,  6.5594e-01,\n",
       "          6.1284e-07,  2.8053e-01,  1.0402e-08,  3.8847e-05,  4.1488e-09],\n",
       "        [ 1.6616e-04,  3.4156e-09,  1.5633e-05,  1.6189e-07,  4.4634e-06,\n",
       "          1.2712e-05,  2.3860e-04,  2.7809e-06,  9.9956e-01,  8.2097e-08],\n",
       "        [ 4.6617e-06,  9.2561e-07,  3.9278e-02,  1.3326e-05,  9.4234e-01,\n",
       "          2.5731e-08,  1.8356e-02,  5.3139e-10,  9.3912e-06,  1.9589e-10],\n",
       "        [ 2.1738e-03,  1.5316e-06,  2.0309e-02,  5.3014e-04,  4.3242e-02,\n",
       "          8.1268e-06,  9.3353e-01,  3.4191e-07,  2.0299e-04,  1.0567e-07],\n",
       "        [ 1.8219e-03,  5.1595e-05,  9.6318e-01,  1.3211e-04,  3.2620e-03,\n",
       "          2.2895e-08,  3.1544e-02,  3.7729e-10,  1.2459e-05,  8.3635e-10],\n",
       "        [ 2.7800e-15,  2.8706e-18,  1.3572e-17,  1.6050e-16,  9.0093e-19,\n",
       "          2.0231e-05,  8.8600e-17,  1.1162e-05,  2.3829e-14,  9.9997e-01],\n",
       "        [ 2.3301e-10,  1.0000e+00,  2.4336e-11,  2.9185e-09,  3.4930e-11,\n",
       "          9.4537e-14,  3.8068e-12,  1.3489e-13,  1.9723e-14,  1.5509e-17],\n",
       "        [ 2.0309e-03,  7.5013e-06,  9.4176e-01,  7.3652e-05,  2.2406e-03,\n",
       "          6.4862e-09,  5.3875e-02,  9.6552e-11,  1.4621e-05,  2.6548e-10],\n",
       "        [ 2.5600e-05,  9.9932e-01,  4.3256e-06,  6.4200e-04,  7.8300e-06,\n",
       "          1.1490e-07,  3.0013e-06,  5.3888e-08,  1.5187e-07,  1.1484e-09],\n",
       "        [ 1.1971e-04,  5.4011e-09,  2.3305e-03,  3.0118e-05,  1.0225e-02,\n",
       "          4.8967e-08,  9.8729e-01,  1.4672e-09,  7.4270e-06,  2.3633e-10],\n",
       "        [ 1.5882e-03,  1.4314e-03,  6.0375e-03,  5.8622e-01,  3.5426e-01,\n",
       "          9.4601e-06,  4.9194e-02,  3.6868e-06,  1.2526e-03,  1.5370e-06],\n",
       "        [ 9.6526e-05,  4.3003e-05,  2.6336e-01,  2.1640e-04,  7.0769e-01,\n",
       "          1.1558e-06,  2.8536e-02,  6.2679e-08,  6.2302e-05,  4.0440e-08],\n",
       "        [ 5.3472e-10,  8.6475e-12,  4.8779e-11,  6.9043e-11,  6.2312e-12,\n",
       "          5.4889e-03,  7.6212e-11,  1.8234e-04,  7.4261e-10,  9.9433e-01],\n",
       "        [ 8.9498e-10,  1.4494e-10,  1.8977e-12,  2.9098e-10,  2.8767e-11,\n",
       "          3.0213e-04,  8.3398e-11,  9.9969e-01,  1.3801e-07,  6.3905e-06],\n",
       "        [ 3.2677e-02,  1.4946e-02,  5.7693e-02,  3.7835e-01,  2.8783e-01,\n",
       "          1.2468e-03,  2.1537e-01,  5.0199e-04,  1.0885e-02,  5.0328e-04],\n",
       "        [ 8.6122e-05,  8.7195e-06,  3.2866e-02,  6.0587e-04,  8.8643e-01,\n",
       "          2.5987e-06,  7.9604e-02,  2.3953e-07,  3.9801e-04,  9.5280e-08],\n",
       "        [ 1.3884e-09,  7.7100e-11,  8.2687e-11,  1.6031e-09,  5.5568e-11,\n",
       "          3.2254e-04,  5.0885e-10,  1.7894e-03,  2.4895e-08,  9.9789e-01]])"
      ]
     },
     "execution_count": 26,
     "metadata": {},
     "output_type": "execute_result"
    }
   ],
   "source": [
    "ps"
   ]
  },
  {
   "cell_type": "code",
   "execution_count": null,
   "metadata": {},
   "outputs": [],
   "source": []
  }
 ],
 "metadata": {
  "kernelspec": {
   "display_name": "Python 3",
   "language": "python",
   "name": "python3"
  },
  "language_info": {
   "codemirror_mode": {
    "name": "ipython",
    "version": 3
   },
   "file_extension": ".py",
   "mimetype": "text/x-python",
   "name": "python",
   "nbconvert_exporter": "python",
   "pygments_lexer": "ipython3",
   "version": "3.6.3"
  }
 },
 "nbformat": 4,
 "nbformat_minor": 2
}
